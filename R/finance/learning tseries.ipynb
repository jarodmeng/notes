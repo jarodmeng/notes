{
 "cells": [
  {
   "cell_type": "markdown",
   "id": "complicated-journal",
   "metadata": {},
   "source": [
    "# learning `tseries`"
   ]
  },
  {
   "cell_type": "markdown",
   "id": "worth-regard",
   "metadata": {},
   "source": [
    "`tseries` ([CRAN](https://cran.r-project.org/web/packages/tseries/index.html)) is a time-series package for computational finance. There aren't much tutorials on how to use the package although the first version of the package appeared long ago in 2001."
   ]
  },
  {
   "cell_type": "markdown",
   "id": "absent-gabriel",
   "metadata": {},
   "source": [
    "Its [reference manual](https://cran.r-project.org/web/packages/tseries/tseries.pdf) provides a glimpse on what it intends to achieve and what functions are included."
   ]
  },
  {
   "cell_type": "markdown",
   "id": "union-clause",
   "metadata": {},
   "source": [
    "Chapter 14 of the [R Cookbook](https://rc2e.com/) titled [Time Series Analysis](https://rc2e.com/timeseriesanalysis) covers some of `tseries` functions, but is not a dedicated tutorial on the package."
   ]
  },
  {
   "cell_type": "markdown",
   "id": "extreme-illinois",
   "metadata": {},
   "source": [
    "## Getting financial quotes"
   ]
  },
  {
   "cell_type": "markdown",
   "id": "alternate-memorial",
   "metadata": {},
   "source": [
    "Getting data is always the first step of any analysis. For financial analysis, getting a financial instrument's data is a logical first step. `tseries` has a `get.hist.quote()` function that downloads historical OHLC (open, high, low, close) data from Yahoo Finance."
   ]
  },
  {
   "cell_type": "markdown",
   "id": "earlier-speaking",
   "metadata": {},
   "source": [
    "In the [backend](https://github.com/cran/tseries/blob/master/R/finance.R#L134), `get.hist.quote()` utilizes the `getSymbols()` function from the `quantmod` package to get the financial data and returns a `zoo` object."
   ]
  },
  {
   "cell_type": "code",
   "execution_count": 2,
   "id": "minute-czech",
   "metadata": {},
   "outputs": [
    {
     "name": "stderr",
     "output_type": "stream",
     "text": [
      "Registered S3 method overwritten by 'quantmod':\n",
      "  method            from\n",
      "  as.zoo.data.frame zoo \n",
      "\n"
     ]
    }
   ],
   "source": [
    "library(tseries)"
   ]
  },
  {
   "cell_type": "code",
   "execution_count": 16,
   "id": "undefined-triumph",
   "metadata": {},
   "outputs": [
    {
     "name": "stdout",
     "output_type": "stream",
     "text": [
      "time series ends   2021-06-18\n"
     ]
    }
   ],
   "source": [
    "stock.aapl <- get.hist.quote(\"AAPL\", retclass = \"zoo\")"
   ]
  },
  {
   "cell_type": "code",
   "execution_count": 17,
   "id": "electronic-chemistry",
   "metadata": {},
   "outputs": [
    {
     "data": {
      "text/plain": [
       "               Open     High      Low    Close\n",
       "1991-01-02 0.381696 0.392857 0.375000 0.388393\n",
       "1991-01-03 0.388393 0.395089 0.383929 0.383929\n",
       "1991-01-04 0.383929 0.395089 0.383929 0.386161\n",
       "1991-01-07 0.383929 0.404018 0.383929 0.386161\n",
       "1991-01-08 0.390625 0.391741 0.379464 0.386161\n",
       "1991-01-09 0.395089 0.410714 0.390625 0.404018"
      ]
     },
     "metadata": {},
     "output_type": "display_data"
    }
   ],
   "source": [
    "head(stock.aapl)"
   ]
  },
  {
   "cell_type": "code",
   "execution_count": 18,
   "id": "ordered-network",
   "metadata": {},
   "outputs": [
    {
     "data": {
      "text/html": [
       "'zoo'"
      ],
      "text/latex": [
       "'zoo'"
      ],
      "text/markdown": [
       "'zoo'"
      ],
      "text/plain": [
       "[1] \"zoo\""
      ]
     },
     "metadata": {},
     "output_type": "display_data"
    }
   ],
   "source": [
    "class(stock.aapl)"
   ]
  },
  {
   "cell_type": "code",
   "execution_count": 19,
   "id": "optional-grave",
   "metadata": {},
   "outputs": [
    {
     "data": {
      "text/html": [
       "7675"
      ],
      "text/latex": [
       "7675"
      ],
      "text/markdown": [
       "7675"
      ],
      "text/plain": [
       "[1] 7675"
      ]
     },
     "metadata": {},
     "output_type": "display_data"
    }
   ],
   "source": [
    "nrow(stock.aapl)"
   ]
  }
 ],
 "metadata": {
  "kernelspec": {
   "display_name": "R",
   "language": "R",
   "name": "ir"
  },
  "language_info": {
   "codemirror_mode": "r",
   "file_extension": ".r",
   "mimetype": "text/x-r-source",
   "name": "R",
   "pygments_lexer": "r",
   "version": "4.0.3"
  },
  "toc": {
   "base_numbering": 1,
   "nav_menu": {
    "height": "156px",
    "width": "328px"
   },
   "number_sections": true,
   "sideBar": true,
   "skip_h1_title": false,
   "title_cell": "Table of Contents",
   "title_sidebar": "Contents",
   "toc_cell": false,
   "toc_position": {},
   "toc_section_display": true,
   "toc_window_display": false
  }
 },
 "nbformat": 4,
 "nbformat_minor": 5
}
