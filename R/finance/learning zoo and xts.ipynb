{
 "cells": [
  {
   "cell_type": "markdown",
   "id": "functioning-grounds",
   "metadata": {},
   "source": [
    "# learning `zoo` and `xts`"
   ]
  },
  {
   "cell_type": "markdown",
   "id": "straight-courage",
   "metadata": {},
   "source": [
    "## Introduction of `zoo`"
   ]
  },
  {
   "cell_type": "markdown",
   "id": "blocked-mistake",
   "metadata": {},
   "source": [
    "`zoo` ([CRAN](https://cran.r-project.org/web/packages/zoo/index.html)) is an S3 class for ordered indexd observations. It stands for Z's ordered observations (it's interesting that it doesn't mention index)."
   ]
  },
  {
   "cell_type": "markdown",
   "id": "integral-coral",
   "metadata": {},
   "source": [
    "`zoo` index's independence of a particular index class is a key feature. That is, `zoo` object's index can be of various classes (e.g., `Date`, `POSIXct`, or others)."
   ]
  },
  {
   "cell_type": "markdown",
   "id": "noticed-chemical",
   "metadata": {},
   "source": [
    "Another key aspect of the `zoo` package is its offering of standard methods to work with `zoo` objects. Those methods are dispatched on the `zoo` class since after all the core offering of `zoo` is an S3 class in the same name."
   ]
  },
  {
   "cell_type": "markdown",
   "id": "former-founder",
   "metadata": {},
   "source": [
    "## Creation of `zoo` objects"
   ]
  },
  {
   "cell_type": "markdown",
   "id": "monetary-lebanon",
   "metadata": {},
   "source": [
    "The basic idea of creating a `zoo` object involves two parts: 1) a vector or a matrix of data/observations; and 2) an ordered index (i.e., a vector) whose length is the same as the length of the data vector or the number of rows of the matrix."
   ]
  },
  {
   "cell_type": "markdown",
   "id": "closed-renewal",
   "metadata": {},
   "source": [
    "The creation function is simply `zoo()`. It accpets two arguments."
   ]
  },
  {
   "cell_type": "markdown",
   "id": "automatic-outside",
   "metadata": {},
   "source": [
    "`zoo(x, order.by)`"
   ]
  },
  {
   "cell_type": "markdown",
   "id": "helpful-midnight",
   "metadata": {},
   "source": [
    "1. `x` is the vector or the matrix of observations. Theoretically this can be of any class, but in pratice, most of the methods (e.g., plotting, aggregating, mathmatical operations, etc) are only useful for numeric observations.\n",
    "\n",
    "1. `order.by` is the index by which the observations should be ordered. It has to be the same length as `NROW(x)`. In theory it can be of any class as well. However, in order for the `zoo` object to properly function, it is assumed that the index has some basic valid operation defined.\n",
    "\n",
    "  1. `c()` for combination\n",
    "  1. `length()` for querying length\n",
    "  1. `MATCH()` for value matching\n",
    "  1. `[` for subsetting\n",
    "  1. `ORDER()` for ordering\n",
    "  1. `as.character()` for pretty printing\n",
    "  1. `as.numeric()` for computing distance\n",
    "  \n",
    "  All these methods are available for standard character and numeric vectors, and vectors of classes `Date`, `POSIXct`, `times` (from packge `chron`), and `timeDate` (from package `timeDate`)."
   ]
  },
  {
   "cell_type": "code",
   "execution_count": 1,
   "id": "tracked-linux",
   "metadata": {},
   "outputs": [
    {
     "name": "stderr",
     "output_type": "stream",
     "text": [
      "\n",
      "Attaching package: ‘zoo’\n",
      "\n",
      "\n",
      "The following objects are masked from ‘package:base’:\n",
      "\n",
      "    as.Date, as.Date.numeric\n",
      "\n",
      "\n"
     ]
    }
   ],
   "source": [
    "library(zoo)"
   ]
  },
  {
   "cell_type": "code",
   "execution_count": 2,
   "id": "banner-migration",
   "metadata": {},
   "outputs": [],
   "source": [
    "set.seed(1071)"
   ]
  },
  {
   "cell_type": "markdown",
   "id": "corporate-blues",
   "metadata": {},
   "source": [
    "### `POSIXct` index"
   ]
  },
  {
   "cell_type": "markdown",
   "id": "roman-identification",
   "metadata": {},
   "source": [
    "In the first case, an index of `POSIXct` is created using `base::ISOdatetime()`. Alternatively, a `POSIXct` index can be created using the `as.POSIXct()` function."
   ]
  },
  {
   "cell_type": "code",
   "execution_count": 3,
   "id": "vocal-master",
   "metadata": {},
   "outputs": [
    {
     "data": {
      "text/plain": [
       " [1] \"2004-01-07 +08\" \"2004-02-13 +08\" \"2004-01-18 +08\" \"2004-02-24 +08\"\n",
       " [5] \"2004-01-17 +08\" \"2004-02-26 +08\" \"2004-01-05 +08\" \"2004-02-01 +08\"\n",
       " [9] \"2004-01-14 +08\" \"2004-02-19 +08\""
      ]
     },
     "metadata": {},
     "output_type": "display_data"
    }
   ],
   "source": [
    "z1.index <- ISOdatetime(2004, rep(1:2, 5), sample(28, 10, replace = FALSE), 0, 0, 0)\n",
    "z1.index"
   ]
  },
  {
   "cell_type": "code",
   "execution_count": 4,
   "id": "accessible-character",
   "metadata": {},
   "outputs": [
    {
     "data": {
      "text/html": [
       "<style>\n",
       ".list-inline {list-style: none; margin:0; padding: 0}\n",
       ".list-inline>li {display: inline-block}\n",
       ".list-inline>li:not(:last-child)::after {content: \"\\00b7\"; padding: 0 .5ex}\n",
       "</style>\n",
       "<ol class=list-inline><li>'POSIXct'</li><li>'POSIXt'</li></ol>\n"
      ],
      "text/latex": [
       "\\begin{enumerate*}\n",
       "\\item 'POSIXct'\n",
       "\\item 'POSIXt'\n",
       "\\end{enumerate*}\n"
      ],
      "text/markdown": [
       "1. 'POSIXct'\n",
       "2. 'POSIXt'\n",
       "\n",
       "\n"
      ],
      "text/plain": [
       "[1] \"POSIXct\" \"POSIXt\" "
      ]
     },
     "metadata": {},
     "output_type": "display_data"
    }
   ],
   "source": [
    "class(z1.index)"
   ]
  },
  {
   "cell_type": "code",
   "execution_count": 5,
   "id": "standing-people",
   "metadata": {},
   "outputs": [
    {
     "data": {
      "text/html": [
       "<style>\n",
       ".list-inline {list-style: none; margin:0; padding: 0}\n",
       ".list-inline>li {display: inline-block}\n",
       ".list-inline>li:not(:last-child)::after {content: \"\\00b7\"; padding: 0 .5ex}\n",
       "</style>\n",
       "<ol class=list-inline><li>0.746759943209612</li><li>-1.78439244130057</li><li>1.94078849611945</li><li>1.27384445206446</li><li>0.686257723178597</li><li>0.221704383875355</li><li>0.0210787287558582</li><li>-2.07607584681014</li><li>0.26975895324282</li><li>-1.40299938202955</li></ol>\n"
      ],
      "text/latex": [
       "\\begin{enumerate*}\n",
       "\\item 0.746759943209612\n",
       "\\item -1.78439244130057\n",
       "\\item 1.94078849611945\n",
       "\\item 1.27384445206446\n",
       "\\item 0.686257723178597\n",
       "\\item 0.221704383875355\n",
       "\\item 0.0210787287558582\n",
       "\\item -2.07607584681014\n",
       "\\item 0.26975895324282\n",
       "\\item -1.40299938202955\n",
       "\\end{enumerate*}\n"
      ],
      "text/markdown": [
       "1. 0.746759943209612\n",
       "2. -1.78439244130057\n",
       "3. 1.94078849611945\n",
       "4. 1.27384445206446\n",
       "5. 0.686257723178597\n",
       "6. 0.221704383875355\n",
       "7. 0.0210787287558582\n",
       "8. -2.07607584681014\n",
       "9. 0.26975895324282\n",
       "10. -1.40299938202955\n",
       "\n",
       "\n"
      ],
      "text/plain": [
       " [1]  0.74675994 -1.78439244  1.94078850  1.27384445  0.68625772  0.22170438\n",
       " [7]  0.02107873 -2.07607585  0.26975895 -1.40299938"
      ]
     },
     "metadata": {},
     "output_type": "display_data"
    }
   ],
   "source": [
    "z1.data <- rnorm(length(z1.index))\n",
    "z1.data"
   ]
  },
  {
   "cell_type": "code",
   "execution_count": 6,
   "id": "illegal-carbon",
   "metadata": {},
   "outputs": [
    {
     "data": {
      "text/html": [
       "'numeric'"
      ],
      "text/latex": [
       "'numeric'"
      ],
      "text/markdown": [
       "'numeric'"
      ],
      "text/plain": [
       "[1] \"numeric\""
      ]
     },
     "metadata": {},
     "output_type": "display_data"
    }
   ],
   "source": [
    "class(z1.data)"
   ]
  },
  {
   "cell_type": "markdown",
   "id": "professional-second",
   "metadata": {},
   "source": [
    "Combining the two elements (i.e., index and data) together makes a `zoo` object."
   ]
  },
  {
   "cell_type": "code",
   "execution_count": 7,
   "id": "plain-potato",
   "metadata": {},
   "outputs": [
    {
     "data": {
      "text/plain": [
       " 2004-01-05  2004-01-07  2004-01-14  2004-01-17  2004-01-18  2004-02-01 \n",
       " 0.02107873  0.74675994  0.26975895  0.68625772  1.94078850 -2.07607585 \n",
       " 2004-02-13  2004-02-19  2004-02-24  2004-02-26 \n",
       "-1.78439244 -1.40299938  1.27384445  0.22170438 "
      ]
     },
     "metadata": {},
     "output_type": "display_data"
    }
   ],
   "source": [
    "z1 <- zoo(x = z1.data, order.by = z1.index)\n",
    "z1"
   ]
  },
  {
   "cell_type": "code",
   "execution_count": 8,
   "id": "electric-score",
   "metadata": {},
   "outputs": [
    {
     "data": {
      "text/html": [
       "'zoo'"
      ],
      "text/latex": [
       "'zoo'"
      ],
      "text/markdown": [
       "'zoo'"
      ],
      "text/plain": [
       "[1] \"zoo\""
      ]
     },
     "metadata": {},
     "output_type": "display_data"
    }
   ],
   "source": [
    "class(z1)"
   ]
  },
  {
   "cell_type": "markdown",
   "id": "worth-storage",
   "metadata": {},
   "source": [
    "### `Date` index"
   ]
  },
  {
   "cell_type": "markdown",
   "id": "noted-investigator",
   "metadata": {},
   "source": [
    "In the second case, a `Date` index is created to order a data matrix."
   ]
  },
  {
   "cell_type": "code",
   "execution_count": 9,
   "id": "occupational-shepherd",
   "metadata": {},
   "outputs": [
    {
     "name": "stderr",
     "output_type": "stream",
     "text": [
      "\n",
      "Attaching package: ‘lubridate’\n",
      "\n",
      "\n",
      "The following objects are masked from ‘package:base’:\n",
      "\n",
      "    date, intersect, setdiff, union\n",
      "\n",
      "\n"
     ]
    }
   ],
   "source": [
    "library(lubridate)"
   ]
  },
  {
   "cell_type": "code",
   "execution_count": 10,
   "id": "understanding-canadian",
   "metadata": {},
   "outputs": [
    {
     "data": {
      "text/html": [
       "<style>\n",
       ".list-inline {list-style: none; margin:0; padding: 0}\n",
       ".list-inline>li {display: inline-block}\n",
       ".list-inline>li:not(:last-child)::after {content: \"\\00b7\"; padding: 0 .5ex}\n",
       "</style>\n",
       "<ol class=list-inline><li><time datetime=\"2021-01-01\">2021-01-01</time></li><li><time datetime=\"2021-03-05\">2021-03-05</time></li><li><time datetime=\"2021-02-07\">2021-02-07</time></li><li><time datetime=\"2021-03-13\">2021-03-13</time></li><li><time datetime=\"2021-05-30\">2021-05-30</time></li><li><time datetime=\"2021-03-25\">2021-03-25</time></li><li><time datetime=\"2021-04-04\">2021-04-04</time></li><li><time datetime=\"2021-05-01\">2021-05-01</time></li><li><time datetime=\"2021-04-02\">2021-04-02</time></li><li><time datetime=\"2021-01-28\">2021-01-28</time></li><li><time datetime=\"2021-05-08\">2021-05-08</time></li><li><time datetime=\"2021-06-06\">2021-06-06</time></li><li><time datetime=\"2021-01-13\">2021-01-13</time></li><li><time datetime=\"2021-02-01\">2021-02-01</time></li><li><time datetime=\"2021-01-09\">2021-01-09</time></li><li><time datetime=\"2021-02-05\">2021-02-05</time></li><li><time datetime=\"2021-01-17\">2021-01-17</time></li><li><time datetime=\"2021-03-14\">2021-03-14</time></li><li><time datetime=\"2021-04-12\">2021-04-12</time></li><li><time datetime=\"2021-02-22\">2021-02-22</time></li><li><time datetime=\"2021-02-23\">2021-02-23</time></li><li><time datetime=\"2021-05-29\">2021-05-29</time></li><li><time datetime=\"2021-05-27\">2021-05-27</time></li><li><time datetime=\"2021-01-15\">2021-01-15</time></li><li><time datetime=\"2021-04-23\">2021-04-23</time></li><li><time datetime=\"2021-03-21\">2021-03-21</time></li><li><time datetime=\"2021-05-19\">2021-05-19</time></li><li><time datetime=\"2021-05-14\">2021-05-14</time></li><li><time datetime=\"2021-02-27\">2021-02-27</time></li><li><time datetime=\"2021-03-01\">2021-03-01</time></li><li><time datetime=\"2021-02-13\">2021-02-13</time></li><li><time datetime=\"2021-06-16\">2021-06-16</time></li><li><time datetime=\"2021-05-05\">2021-05-05</time></li><li><time datetime=\"2021-04-18\">2021-04-18</time></li><li><time datetime=\"2021-03-20\">2021-03-20</time></li><li><time datetime=\"2021-05-07\">2021-05-07</time></li><li><time datetime=\"2021-01-12\">2021-01-12</time></li><li><time datetime=\"2021-02-24\">2021-02-24</time></li><li><time datetime=\"2021-04-22\">2021-04-22</time></li><li><time datetime=\"2021-04-06\">2021-04-06</time></li><li><time datetime=\"2021-01-27\">2021-01-27</time></li><li><time datetime=\"2021-03-19\">2021-03-19</time></li><li><time datetime=\"2021-03-15\">2021-03-15</time></li><li><time datetime=\"2021-05-21\">2021-05-21</time></li><li><time datetime=\"2021-06-05\">2021-06-05</time></li><li><time datetime=\"2021-02-06\">2021-02-06</time></li><li><time datetime=\"2021-03-30\">2021-03-30</time></li><li><time datetime=\"2021-02-11\">2021-02-11</time></li><li><time datetime=\"2021-04-20\">2021-04-20</time></li><li><time datetime=\"2021-04-19\">2021-04-19</time></li></ol>\n"
      ],
      "text/latex": [
       "\\begin{enumerate*}\n",
       "\\item 2021-01-01\n",
       "\\item 2021-03-05\n",
       "\\item 2021-02-07\n",
       "\\item 2021-03-13\n",
       "\\item 2021-05-30\n",
       "\\item 2021-03-25\n",
       "\\item 2021-04-04\n",
       "\\item 2021-05-01\n",
       "\\item 2021-04-02\n",
       "\\item 2021-01-28\n",
       "\\item 2021-05-08\n",
       "\\item 2021-06-06\n",
       "\\item 2021-01-13\n",
       "\\item 2021-02-01\n",
       "\\item 2021-01-09\n",
       "\\item 2021-02-05\n",
       "\\item 2021-01-17\n",
       "\\item 2021-03-14\n",
       "\\item 2021-04-12\n",
       "\\item 2021-02-22\n",
       "\\item 2021-02-23\n",
       "\\item 2021-05-29\n",
       "\\item 2021-05-27\n",
       "\\item 2021-01-15\n",
       "\\item 2021-04-23\n",
       "\\item 2021-03-21\n",
       "\\item 2021-05-19\n",
       "\\item 2021-05-14\n",
       "\\item 2021-02-27\n",
       "\\item 2021-03-01\n",
       "\\item 2021-02-13\n",
       "\\item 2021-06-16\n",
       "\\item 2021-05-05\n",
       "\\item 2021-04-18\n",
       "\\item 2021-03-20\n",
       "\\item 2021-05-07\n",
       "\\item 2021-01-12\n",
       "\\item 2021-02-24\n",
       "\\item 2021-04-22\n",
       "\\item 2021-04-06\n",
       "\\item 2021-01-27\n",
       "\\item 2021-03-19\n",
       "\\item 2021-03-15\n",
       "\\item 2021-05-21\n",
       "\\item 2021-06-05\n",
       "\\item 2021-02-06\n",
       "\\item 2021-03-30\n",
       "\\item 2021-02-11\n",
       "\\item 2021-04-20\n",
       "\\item 2021-04-19\n",
       "\\end{enumerate*}\n"
      ],
      "text/markdown": [
       "1. 2021-01-01\n",
       "2. 2021-03-05\n",
       "3. 2021-02-07\n",
       "4. 2021-03-13\n",
       "5. 2021-05-30\n",
       "6. 2021-03-25\n",
       "7. 2021-04-04\n",
       "8. 2021-05-01\n",
       "9. 2021-04-02\n",
       "10. 2021-01-28\n",
       "11. 2021-05-08\n",
       "12. 2021-06-06\n",
       "13. 2021-01-13\n",
       "14. 2021-02-01\n",
       "15. 2021-01-09\n",
       "16. 2021-02-05\n",
       "17. 2021-01-17\n",
       "18. 2021-03-14\n",
       "19. 2021-04-12\n",
       "20. 2021-02-22\n",
       "21. 2021-02-23\n",
       "22. 2021-05-29\n",
       "23. 2021-05-27\n",
       "24. 2021-01-15\n",
       "25. 2021-04-23\n",
       "26. 2021-03-21\n",
       "27. 2021-05-19\n",
       "28. 2021-05-14\n",
       "29. 2021-02-27\n",
       "30. 2021-03-01\n",
       "31. 2021-02-13\n",
       "32. 2021-06-16\n",
       "33. 2021-05-05\n",
       "34. 2021-04-18\n",
       "35. 2021-03-20\n",
       "36. 2021-05-07\n",
       "37. 2021-01-12\n",
       "38. 2021-02-24\n",
       "39. 2021-04-22\n",
       "40. 2021-04-06\n",
       "41. 2021-01-27\n",
       "42. 2021-03-19\n",
       "43. 2021-03-15\n",
       "44. 2021-05-21\n",
       "45. 2021-06-05\n",
       "46. 2021-02-06\n",
       "47. 2021-03-30\n",
       "48. 2021-02-11\n",
       "49. 2021-04-20\n",
       "50. 2021-04-19\n",
       "\n",
       "\n"
      ],
      "text/plain": [
       " [1] \"2021-01-01\" \"2021-03-05\" \"2021-02-07\" \"2021-03-13\" \"2021-05-30\"\n",
       " [6] \"2021-03-25\" \"2021-04-04\" \"2021-05-01\" \"2021-04-02\" \"2021-01-28\"\n",
       "[11] \"2021-05-08\" \"2021-06-06\" \"2021-01-13\" \"2021-02-01\" \"2021-01-09\"\n",
       "[16] \"2021-02-05\" \"2021-01-17\" \"2021-03-14\" \"2021-04-12\" \"2021-02-22\"\n",
       "[21] \"2021-02-23\" \"2021-05-29\" \"2021-05-27\" \"2021-01-15\" \"2021-04-23\"\n",
       "[26] \"2021-03-21\" \"2021-05-19\" \"2021-05-14\" \"2021-02-27\" \"2021-03-01\"\n",
       "[31] \"2021-02-13\" \"2021-06-16\" \"2021-05-05\" \"2021-04-18\" \"2021-03-20\"\n",
       "[36] \"2021-05-07\" \"2021-01-12\" \"2021-02-24\" \"2021-04-22\" \"2021-04-06\"\n",
       "[41] \"2021-01-27\" \"2021-03-19\" \"2021-03-15\" \"2021-05-21\" \"2021-06-05\"\n",
       "[46] \"2021-02-06\" \"2021-03-30\" \"2021-02-11\" \"2021-04-20\" \"2021-04-19\""
      ]
     },
     "metadata": {},
     "output_type": "display_data"
    }
   ],
   "source": [
    "Z.index <- sample(seq.Date(ymd(\"20210101\"), ymd(\"20210617\"), 1), 50, replace = FALSE)\n",
    "Z.index"
   ]
  },
  {
   "cell_type": "code",
   "execution_count": 11,
   "id": "hybrid-clinton",
   "metadata": {},
   "outputs": [
    {
     "data": {
      "text/html": [
       "'Date'"
      ],
      "text/latex": [
       "'Date'"
      ],
      "text/markdown": [
       "'Date'"
      ],
      "text/plain": [
       "[1] \"Date\""
      ]
     },
     "metadata": {},
     "output_type": "display_data"
    }
   ],
   "source": [
    "class(Z.index)"
   ]
  },
  {
   "cell_type": "code",
   "execution_count": 12,
   "id": "traditional-nashville",
   "metadata": {},
   "outputs": [
    {
     "data": {
      "text/html": [
       "<table>\n",
       "<caption>A matrix: 6 × 3 of type dbl</caption>\n",
       "<thead>\n",
       "\t<tr><th scope=col>Aa</th><th scope=col>Bb</th><th scope=col>Cc</th></tr>\n",
       "</thead>\n",
       "<tbody>\n",
       "\t<tr><td>-0.1459740</td><td>-1.7359596</td><td>-1.8397033</td></tr>\n",
       "\t<tr><td> 2.0041709</td><td> 1.4851828</td><td> 1.2046435</td></tr>\n",
       "\t<tr><td>-0.7730781</td><td>-0.8203011</td><td> 0.3584219</td></tr>\n",
       "\t<tr><td>-0.5471904</td><td> 1.0218569</td><td>-0.5018807</td></tr>\n",
       "\t<tr><td>-0.8378887</td><td> 1.0683123</td><td> 0.7285755</td></tr>\n",
       "\t<tr><td> 1.1419194</td><td> 0.2222751</td><td>-0.2946740</td></tr>\n",
       "</tbody>\n",
       "</table>\n"
      ],
      "text/latex": [
       "A matrix: 6 × 3 of type dbl\n",
       "\\begin{tabular}{lll}\n",
       " Aa & Bb & Cc\\\\\n",
       "\\hline\n",
       "\t -0.1459740 & -1.7359596 & -1.8397033\\\\\n",
       "\t  2.0041709 &  1.4851828 &  1.2046435\\\\\n",
       "\t -0.7730781 & -0.8203011 &  0.3584219\\\\\n",
       "\t -0.5471904 &  1.0218569 & -0.5018807\\\\\n",
       "\t -0.8378887 &  1.0683123 &  0.7285755\\\\\n",
       "\t  1.1419194 &  0.2222751 & -0.2946740\\\\\n",
       "\\end{tabular}\n"
      ],
      "text/markdown": [
       "\n",
       "A matrix: 6 × 3 of type dbl\n",
       "\n",
       "| Aa | Bb | Cc |\n",
       "|---|---|---|\n",
       "| -0.1459740 | -1.7359596 | -1.8397033 |\n",
       "|  2.0041709 |  1.4851828 |  1.2046435 |\n",
       "| -0.7730781 | -0.8203011 |  0.3584219 |\n",
       "| -0.5471904 |  1.0218569 | -0.5018807 |\n",
       "| -0.8378887 |  1.0683123 |  0.7285755 |\n",
       "|  1.1419194 |  0.2222751 | -0.2946740 |\n",
       "\n"
      ],
      "text/plain": [
       "     Aa         Bb         Cc        \n",
       "[1,] -0.1459740 -1.7359596 -1.8397033\n",
       "[2,]  2.0041709  1.4851828  1.2046435\n",
       "[3,] -0.7730781 -0.8203011  0.3584219\n",
       "[4,] -0.5471904  1.0218569 -0.5018807\n",
       "[5,] -0.8378887  1.0683123  0.7285755\n",
       "[6,]  1.1419194  0.2222751 -0.2946740"
      ]
     },
     "metadata": {},
     "output_type": "display_data"
    }
   ],
   "source": [
    "Z.data <- matrix(rnorm(50*3), ncol = 3)\n",
    "colnames(Z.data) <- c(\"Aa\", \"Bb\", \"Cc\")\n",
    "head(Z.data)"
   ]
  },
  {
   "cell_type": "code",
   "execution_count": 13,
   "id": "understanding-extension",
   "metadata": {},
   "outputs": [
    {
     "data": {
      "text/plain": [
       "                    Aa          Bb         Cc\n",
       "2021-01-01 -0.14597401 -1.73595956 -1.8397033\n",
       "2021-01-09 -0.49754041  0.75830249 -0.8349174\n",
       "2021-01-12 -0.19747538 -1.28239489  0.8786695\n",
       "2021-01-13  1.01913862  0.47079208 -0.4901370\n",
       "2021-01-15  0.04630992  0.09710551  0.5546205\n",
       "2021-01-17 -1.18927963 -0.73329159  0.7460067"
      ]
     },
     "metadata": {},
     "output_type": "display_data"
    }
   ],
   "source": [
    "Z <- zoo(x = Z.data, order.by = Z.index)\n",
    "head(Z)"
   ]
  },
  {
   "cell_type": "markdown",
   "id": "resistant-reward",
   "metadata": {},
   "source": [
    "## Creation of `zooreg` objects"
   ]
  },
  {
   "cell_type": "markdown",
   "id": "scheduled-marketplace",
   "metadata": {},
   "source": [
    "**Strictly regular series** are such series observations where *the distance between the indexes\n",
    "of every two adjacent observations is the same*. Such series can be described by their frequency (i.e., the reciprocal of the distance between two adjacent observations)."
   ]
  },
  {
   "cell_type": "markdown",
   "id": "offensive-dutch",
   "metadata": {},
   "source": [
    "The `zoo` package can be used to create strictly and weakly regular series (as opposed to the `ts` package which only allows strictly regular series). The `zooreg` class is created to store an extra property (i.e., frequency) of a `zoo` object. In this sense, the `zooreg` class is an extension of the `zoo` class."
   ]
  },
  {
   "cell_type": "markdown",
   "id": "australian-gabriel",
   "metadata": {},
   "source": [
    "A `zooreg` object can be crated using the regular `zoo()` function or with a specific `zooreg()` function.\n",
    "\n",
    "1. `zoo(x, order.by, frequency)`\n",
    "1. `zooreg(data, start, end, frequency, deltat, ts.eps, order.by)`"
   ]
  },
  {
   "cell_type": "markdown",
   "id": "excited-wagner",
   "metadata": {},
   "source": [
    "Here the most important argument is `frequency` which specifies the number of observations per unit of time. The unit of time is usually a year, so a `frequency = 4` indicates quarterly observations and `frequency = 12` indicates monthly observations."
   ]
  },
  {
   "cell_type": "code",
   "execution_count": 14,
   "id": "surface-aspect",
   "metadata": {},
   "outputs": [
    {
     "data": {
      "text/plain": [
       "   2000 Q1    2000 Q2    2000 Q3    2000 Q4    2001 Q1    2001 Q2    2001 Q3 \n",
       " 0.8414710  0.9092974  0.1411200 -0.7568025 -0.9589243 -0.2794155  0.6569866 \n",
       "   2001 Q4    2002 Q1 \n",
       " 0.9893582  0.4121185 "
      ]
     },
     "metadata": {},
     "output_type": "display_data"
    }
   ],
   "source": [
    "zr <- zoo(x = sin(1:9), order.by = seq(2000, 2002, by = 1/4), frequency = 4)\n",
    "zr"
   ]
  },
  {
   "cell_type": "code",
   "execution_count": 15,
   "id": "difficult-abraham",
   "metadata": {},
   "outputs": [
    {
     "data": {
      "text/html": [
       "<style>\n",
       ".list-inline {list-style: none; margin:0; padding: 0}\n",
       ".list-inline>li {display: inline-block}\n",
       ".list-inline>li:not(:last-child)::after {content: \"\\00b7\"; padding: 0 .5ex}\n",
       "</style>\n",
       "<ol class=list-inline><li>'zooreg'</li><li>'zoo'</li></ol>\n"
      ],
      "text/latex": [
       "\\begin{enumerate*}\n",
       "\\item 'zooreg'\n",
       "\\item 'zoo'\n",
       "\\end{enumerate*}\n"
      ],
      "text/markdown": [
       "1. 'zooreg'\n",
       "2. 'zoo'\n",
       "\n",
       "\n"
      ],
      "text/plain": [
       "[1] \"zooreg\" \"zoo\"   "
      ]
     },
     "metadata": {},
     "output_type": "display_data"
    }
   ],
   "source": [
    "class(zr)"
   ]
  },
  {
   "cell_type": "markdown",
   "id": "thrown-processor",
   "metadata": {},
   "source": [
    "### Extra attributes and methods of `zooreg` objects"
   ]
  },
  {
   "cell_type": "markdown",
   "id": "arranged-campus",
   "metadata": {},
   "source": [
    "`zooreg` objects have a `frequency` attribute which can be accessed using the `frequency()` function."
   ]
  },
  {
   "cell_type": "code",
   "execution_count": 16,
   "id": "working-wellington",
   "metadata": {},
   "outputs": [
    {
     "data": {
      "text/html": [
       "4"
      ],
      "text/latex": [
       "4"
      ],
      "text/markdown": [
       "4"
      ],
      "text/plain": [
       "[1] 4"
      ]
     },
     "metadata": {},
     "output_type": "display_data"
    }
   ],
   "source": [
    "frequency(zr)"
   ]
  },
  {
   "cell_type": "markdown",
   "id": "steady-arthur",
   "metadata": {},
   "source": [
    "The function actually works on `zoo` objects too. However, when applied on `zoo` objects, the frequency is inferred and might not be reliable."
   ]
  },
  {
   "cell_type": "code",
   "execution_count": 17,
   "id": "another-pillow",
   "metadata": {},
   "outputs": [
    {
     "data": {
      "text/html": [
       "1"
      ],
      "text/latex": [
       "1"
      ],
      "text/markdown": [
       "1"
      ],
      "text/plain": [
       "[1] 1"
      ]
     },
     "metadata": {},
     "output_type": "display_data"
    }
   ],
   "source": [
    "frequency(Z)"
   ]
  },
  {
   "cell_type": "markdown",
   "id": "imported-supervision",
   "metadata": {},
   "source": [
    "In addition, there are a few other utility functions that specifically work with `zooreg` objects.\n",
    "\n",
    "1. The `deltat()` function returns the time interval (represented as fraction of unit of time) between observations.\n",
    "1. The `cycle()` function gives the position in the cycle of each observation. For example, calling `cycle()` on quarterly observations returns the quarter number of each observation."
   ]
  },
  {
   "cell_type": "code",
   "execution_count": 18,
   "id": "contrary-pledge",
   "metadata": {},
   "outputs": [
    {
     "data": {
      "text/html": [
       "0.25"
      ],
      "text/latex": [
       "0.25"
      ],
      "text/markdown": [
       "0.25"
      ],
      "text/plain": [
       "[1] 0.25"
      ]
     },
     "metadata": {},
     "output_type": "display_data"
    }
   ],
   "source": [
    "deltat(zr)"
   ]
  },
  {
   "cell_type": "code",
   "execution_count": 19,
   "id": "complex-denial",
   "metadata": {},
   "outputs": [
    {
     "data": {
      "text/plain": [
       "2000 Q1 2000 Q2 2000 Q3 2000 Q4 2001 Q1 2001 Q2 2001 Q3 2001 Q4 2002 Q1 \n",
       "      1       2       3       4       1       2       3       4       1 "
      ]
     },
     "metadata": {},
     "output_type": "display_data"
    }
   ],
   "source": [
    "# It's interesting that the result is also a zooreg object\n",
    "cycle(zr)"
   ]
  },
  {
   "cell_type": "markdown",
   "id": "fatty-cheat",
   "metadata": {},
   "source": [
    "Lastly, the `is.regular()` function tests if a `zoo` or `zooreg` object is regular. Using `strict = TRUE` in the function call checks if the object is *strictly* regular."
   ]
  },
  {
   "cell_type": "code",
   "execution_count": 20,
   "id": "indirect-backing",
   "metadata": {},
   "outputs": [
    {
     "data": {
      "text/html": [
       "TRUE"
      ],
      "text/latex": [
       "TRUE"
      ],
      "text/markdown": [
       "TRUE"
      ],
      "text/plain": [
       "[1] TRUE"
      ]
     },
     "metadata": {},
     "output_type": "display_data"
    }
   ],
   "source": [
    "is.regular(zr)"
   ]
  },
  {
   "cell_type": "code",
   "execution_count": 21,
   "id": "chicken-rebecca",
   "metadata": {},
   "outputs": [
    {
     "data": {
      "text/html": [
       "TRUE"
      ],
      "text/latex": [
       "TRUE"
      ],
      "text/markdown": [
       "TRUE"
      ],
      "text/plain": [
       "[1] TRUE"
      ]
     },
     "metadata": {},
     "output_type": "display_data"
    }
   ],
   "source": [
    "is.regular(zr, strict = TRUE)"
   ]
  },
  {
   "cell_type": "markdown",
   "id": "dependent-stadium",
   "metadata": {},
   "source": [
    "### Weakly regular series"
   ]
  },
  {
   "cell_type": "markdown",
   "id": "aggregate-progress",
   "metadata": {},
   "source": [
    "A `zooreg` object can be weakly regular, that is, it remains a regular series when some observations are dropped. This facilitates `NA` handling better than comparable regular series like `ts`."
   ]
  },
  {
   "cell_type": "code",
   "execution_count": 22,
   "id": "improved-talent",
   "metadata": {},
   "outputs": [
    {
     "data": {
      "text/html": [
       "<style>\n",
       ".list-inline {list-style: none; margin:0; padding: 0}\n",
       ".list-inline>li {display: inline-block}\n",
       ".list-inline>li:not(:last-child)::after {content: \"\\00b7\"; padding: 0 .5ex}\n",
       "</style>\n",
       "<ol class=list-inline><li>'zooreg'</li><li>'zoo'</li></ol>\n"
      ],
      "text/latex": [
       "\\begin{enumerate*}\n",
       "\\item 'zooreg'\n",
       "\\item 'zoo'\n",
       "\\end{enumerate*}\n"
      ],
      "text/markdown": [
       "1. 'zooreg'\n",
       "2. 'zoo'\n",
       "\n",
       "\n"
      ],
      "text/plain": [
       "[1] \"zooreg\" \"zoo\"   "
      ]
     },
     "metadata": {},
     "output_type": "display_data"
    }
   ],
   "source": [
    "# zooreg object sans an internal observation is still a zooreg object\n",
    "class(zr[-5])"
   ]
  },
  {
   "cell_type": "code",
   "execution_count": 23,
   "id": "devoted-wellington",
   "metadata": {},
   "outputs": [
    {
     "data": {
      "text/html": [
       "TRUE"
      ],
      "text/latex": [
       "TRUE"
      ],
      "text/markdown": [
       "TRUE"
      ],
      "text/plain": [
       "[1] TRUE"
      ]
     },
     "metadata": {},
     "output_type": "display_data"
    }
   ],
   "source": [
    "is.regular(zr[-5])"
   ]
  },
  {
   "cell_type": "code",
   "execution_count": 24,
   "id": "considerable-warning",
   "metadata": {},
   "outputs": [
    {
     "data": {
      "text/html": [
       "FALSE"
      ],
      "text/latex": [
       "FALSE"
      ],
      "text/markdown": [
       "FALSE"
      ],
      "text/plain": [
       "[1] FALSE"
      ]
     },
     "metadata": {},
     "output_type": "display_data"
    }
   ],
   "source": [
    "# Dropping an internal observation makes the object weakly regular\n",
    "is.regular(zr[-5], strict = TRUE)"
   ]
  },
  {
   "cell_type": "markdown",
   "id": "assigned-cosmetic",
   "metadata": {},
   "source": [
    "## `zoo` object properties and methods"
   ]
  },
  {
   "cell_type": "markdown",
   "id": "classified-designer",
   "metadata": {},
   "source": [
    "### Properties"
   ]
  },
  {
   "cell_type": "markdown",
   "id": "swiss-quantum",
   "metadata": {},
   "source": [
    "At the most fundamental level, a `zoo` object has two elements: an ordered index and data. They can be retrieved using `zoo::index()` and `zoo::coredata()` respectively."
   ]
  },
  {
   "cell_type": "code",
   "execution_count": 25,
   "id": "thermal-coordination",
   "metadata": {},
   "outputs": [
    {
     "data": {
      "text/html": [
       "TRUE"
      ],
      "text/latex": [
       "TRUE"
      ],
      "text/markdown": [
       "TRUE"
      ],
      "text/plain": [
       "[1] TRUE"
      ]
     },
     "metadata": {},
     "output_type": "display_data"
    }
   ],
   "source": [
    "# `zoo` object's index is ordered\n",
    "identical(index(Z), sort(Z.index))"
   ]
  },
  {
   "cell_type": "code",
   "execution_count": 26,
   "id": "advised-occurrence",
   "metadata": {},
   "outputs": [
    {
     "data": {
      "text/html": [
       "TRUE"
      ],
      "text/latex": [
       "TRUE"
      ],
      "text/markdown": [
       "TRUE"
      ],
      "text/plain": [
       "[1] TRUE"
      ]
     },
     "metadata": {},
     "output_type": "display_data"
    }
   ],
   "source": [
    "identical(coredata(Z), Z.data[order(Z.index), ])"
   ]
  },
  {
   "cell_type": "markdown",
   "id": "clinical-launch",
   "metadata": {},
   "source": [
    "`start()` and `end()` functions work just like the names suggest."
   ]
  },
  {
   "cell_type": "code",
   "execution_count": 27,
   "id": "fresh-general",
   "metadata": {},
   "outputs": [
    {
     "data": {
      "text/html": [
       "<time datetime=\"2021-01-01\">2021-01-01</time>"
      ],
      "text/latex": [
       "2021-01-01"
      ],
      "text/markdown": [
       "2021-01-01"
      ],
      "text/plain": [
       "[1] \"2021-01-01\""
      ]
     },
     "metadata": {},
     "output_type": "display_data"
    }
   ],
   "source": [
    "start(Z)"
   ]
  },
  {
   "cell_type": "code",
   "execution_count": 28,
   "id": "governing-phenomenon",
   "metadata": {},
   "outputs": [
    {
     "data": {
      "text/html": [
       "<time datetime=\"2021-06-16\">2021-06-16</time>"
      ],
      "text/latex": [
       "2021-06-16"
      ],
      "text/markdown": [
       "2021-06-16"
      ],
      "text/plain": [
       "[1] \"2021-06-16\""
      ]
     },
     "metadata": {},
     "output_type": "display_data"
    }
   ],
   "source": [
    "end(Z)"
   ]
  },
  {
   "cell_type": "markdown",
   "id": "close-albany",
   "metadata": {},
   "source": [
    "### Methods"
   ]
  },
  {
   "cell_type": "markdown",
   "id": "superb-satin",
   "metadata": {},
   "source": [
    "The `window()` function \"subsets\" a `zoo` object by extracting the observations whose index values fall into the specified window."
   ]
  },
  {
   "cell_type": "markdown",
   "id": "worth-camcorder",
   "metadata": {},
   "source": [
    "`window(x, index, start, end)`"
   ]
  },
  {
   "cell_type": "code",
   "execution_count": 29,
   "id": "indonesian-transcription",
   "metadata": {},
   "outputs": [
    {
     "data": {
      "text/plain": [
       "                   Aa          Bb          Cc\n",
       "2021-02-01  0.3027276  1.00767462  1.52541560\n",
       "2021-02-05 -2.0038764 -0.14569308  1.04817937\n",
       "2021-02-06  0.9682644  0.09288683  0.74080025\n",
       "2021-02-07 -0.7730781 -0.82030110  0.35842192\n",
       "2021-02-11 -0.4521628  1.77511926 -1.05201244\n",
       "2021-02-13 -1.0904488  0.57903612  0.37709862\n",
       "2021-02-22  1.5162264 -2.14950920  0.30940018\n",
       "2021-02-23 -0.7562229  0.74956179 -1.02209840\n",
       "2021-02-24  1.3770314 -1.19715273  0.06241115\n",
       "2021-02-27  0.8903241 -1.80642880 -0.66519165"
      ]
     },
     "metadata": {},
     "output_type": "display_data"
    }
   ],
   "source": [
    "# using the full index and specify a start and end\n",
    "window(Z, start = ymd(\"2021-02-01\"), end = ymd(\"2021-02-28\"))"
   ]
  },
  {
   "cell_type": "code",
   "execution_count": 30,
   "id": "elect-coach",
   "metadata": {},
   "outputs": [
    {
     "data": {
      "text/plain": [
       "                   Aa         Bb         Cc\n",
       "2021-06-05 -0.2598216 -0.8658936 -0.6136069\n",
       "2021-06-06  0.1711008  1.0853413 -0.1374332\n",
       "2021-06-16 -1.5074440 -0.0787615 -0.7785695"
      ]
     },
     "metadata": {},
     "output_type": "display_data"
    }
   ],
   "source": [
    "# using the full index and only specify the start\n",
    "window(Z, start = ymd(\"2021-06-01\"))"
   ]
  },
  {
   "cell_type": "code",
   "execution_count": 31,
   "id": "atomic-burner",
   "metadata": {},
   "outputs": [
    {
     "data": {
      "text/plain": [
       "                    Aa          Bb         Cc\n",
       "2021-01-01 -0.14597401 -1.73595956 -1.8397033\n",
       "2021-01-09 -0.49754041  0.75830249 -0.8349174\n",
       "2021-01-12 -0.19747538 -1.28239489  0.8786695\n",
       "2021-01-13  1.01913862  0.47079208 -0.4901370\n",
       "2021-01-15  0.04630992  0.09710551  0.5546205\n",
       "2021-01-17 -1.18927963 -0.73329159  0.7460067\n",
       "2021-01-27  0.28581298 -0.86876557 -0.7650030\n",
       "2021-01-28 -1.42211930  0.05078658 -1.0862570"
      ]
     },
     "metadata": {},
     "output_type": "display_data"
    }
   ],
   "source": [
    "# using the full index and only specify the end\n",
    "window(Z, end = ymd(\"2021-01-31\"))"
   ]
  },
  {
   "cell_type": "code",
   "execution_count": 32,
   "id": "grateful-teens",
   "metadata": {},
   "outputs": [
    {
     "data": {
      "text/plain": [
       "                   Aa          Bb          Cc\n",
       "2021-02-01  0.3027276  1.00767462  1.52541560\n",
       "2021-02-05 -2.0038764 -0.14569308  1.04817937\n",
       "2021-02-06  0.9682644  0.09288683  0.74080025\n",
       "2021-02-07 -0.7730781 -0.82030110  0.35842192\n",
       "2021-02-11 -0.4521628  1.77511926 -1.05201244\n",
       "2021-02-13 -1.0904488  0.57903612  0.37709862\n",
       "2021-02-22  1.5162264 -2.14950920  0.30940018\n",
       "2021-02-23 -0.7562229  0.74956179 -1.02209840\n",
       "2021-02-24  1.3770314 -1.19715273  0.06241115\n",
       "2021-02-27  0.8903241 -1.80642880 -0.66519165"
      ]
     },
     "metadata": {},
     "output_type": "display_data"
    }
   ],
   "source": [
    "# using a partial index and specify the start\n",
    "window(Z, index(Z)[1:18], start = ymd(\"2021-02-01\"))"
   ]
  },
  {
   "cell_type": "markdown",
   "id": "gorgeous-traveler",
   "metadata": {},
   "source": [
    "## Merging and binding of `zoo` objects"
   ]
  },
  {
   "cell_type": "markdown",
   "id": "soviet-count",
   "metadata": {},
   "source": [
    "The `rbind()` method combines `zoo` objects by stitching them together vertically. So the numbers of columns of the participating objects must be the same. Also, their indexes can't overlap because otherwise there will be duplicated indexes in the combined object. Lastly, the `c()` method basically calls `rbind()` and works in the same way."
   ]
  },
  {
   "cell_type": "code",
   "execution_count": 33,
   "id": "dynamic-wagner",
   "metadata": {},
   "outputs": [
    {
     "data": {
      "text/plain": [
       "                   Aa         Bb         Cc\n",
       "2021-01-01 -0.1459740 -1.7359596 -1.8397033\n",
       "2021-01-09 -0.4975404  0.7583025 -0.8349174\n",
       "2021-01-12 -0.1974754 -1.2823949  0.8786695\n",
       "2021-01-13  1.0191386  0.4707921 -0.4901370"
      ]
     },
     "metadata": {},
     "output_type": "display_data"
    }
   ],
   "source": [
    "rbind(Z[1:2], Z[3:4])"
   ]
  },
  {
   "cell_type": "code",
   "execution_count": 34,
   "id": "attended-election",
   "metadata": {},
   "outputs": [
    {
     "ename": "ERROR",
     "evalue": "Error in rbind(deparse.level, ...): indexes overlap\n",
     "output_type": "error",
     "traceback": [
      "Error in rbind(deparse.level, ...): indexes overlap\nTraceback:\n",
      "1. rbind(Z[1:3], Z[3:5])",
      "2. rbind(deparse.level, ...)",
      "3. stop(\"indexes overlap\")"
     ]
    }
   ],
   "source": [
    "# index overlap results in error\n",
    "rbind(Z[1:3], Z[3:5])"
   ]
  },
  {
   "cell_type": "markdown",
   "id": "fleet-outline",
   "metadata": {},
   "source": [
    "The `cbind()` method by default combines the columns by the *union* of the indexes and fills the created gaps with `NA`s."
   ]
  },
  {
   "cell_type": "code",
   "execution_count": 35,
   "id": "initial-williams",
   "metadata": {},
   "outputs": [
    {
     "data": {
      "text/plain": [
       "                  z1a        z1b\n",
       "2004-01-05 0.02107873         NA\n",
       "2004-01-07 0.74675994         NA\n",
       "2004-01-14 0.26975895         NA\n",
       "2004-01-17 0.68625772         NA\n",
       "2004-01-18 1.94078850         NA\n",
       "2004-02-01         NA -2.0760758\n",
       "2004-02-13         NA -1.7843924\n",
       "2004-02-19         NA -1.4029994\n",
       "2004-02-24         NA  1.2738445\n",
       "2004-02-26         NA  0.2217044"
      ]
     },
     "metadata": {},
     "output_type": "display_data"
    }
   ],
   "source": [
    "cbind(z1a = z1[1:5], z1b = z1[6:10])"
   ]
  },
  {
   "cell_type": "markdown",
   "id": "nasty-printer",
   "metadata": {},
   "source": [
    "The `cbind()` method is synonymous with the `merge()` method except that the latter provides an `all = FALSE` argument which allows combination by the *intersection* of the indexes."
   ]
  },
  {
   "cell_type": "code",
   "execution_count": 36,
   "id": "apparent-ballot",
   "metadata": {},
   "outputs": [
    {
     "data": {
      "text/plain": [
       "                  z1a        z1b\n",
       "2004-01-07  0.7467599  0.7467599\n",
       "2004-01-14  0.2697590  0.2697590\n",
       "2004-01-17  0.6862577  0.6862577\n",
       "2004-01-18  1.9407885  1.9407885\n",
       "2004-02-01 -2.0760758 -2.0760758\n",
       "2004-02-13 -1.7843924 -1.7843924\n",
       "2004-02-19 -1.4029994 -1.4029994\n",
       "2004-02-24  1.2738445  1.2738445"
      ]
     },
     "metadata": {},
     "output_type": "display_data"
    }
   ],
   "source": [
    "# merge by intersection rather than union\n",
    "merge(z1a = z1[1:9], z1b = z1[2:10], all = FALSE)"
   ]
  },
  {
   "cell_type": "markdown",
   "id": "sufficient-wayne",
   "metadata": {},
   "source": [
    "## Aggregating and disaggregating"
   ]
  },
  {
   "cell_type": "markdown",
   "id": "designing-first",
   "metadata": {},
   "source": [
    "The `aggregate()` method splits a `zoo` object into subsets along a coarser index (e.g., daily to weekly or monthly) and compute summary statistics for each subset. The `tidyverse` equivalent of this operation would be `summarize(group_by(...))`."
   ]
  },
  {
   "cell_type": "code",
   "execution_count": 37,
   "id": "retired-container",
   "metadata": {},
   "outputs": [
    {
     "data": {
      "text/plain": [
       "                     Aa          Bb         Cc\n",
       "2021-01-01 -0.262640902 -0.40542812 -0.3545901\n",
       "2021-02-01 -0.002121503 -0.19148063  0.1682425\n",
       "2021-03-01  0.241425271  0.26178893  0.1458949\n",
       "2021-04-01  0.183573371  0.17390747  0.1999531\n",
       "2021-05-01 -0.300044508 -0.09864025  0.1353726\n",
       "2021-06-01 -0.532054947  0.04689540 -0.5098698"
      ]
     },
     "metadata": {},
     "output_type": "display_data"
    }
   ],
   "source": [
    "# mean values by month\n",
    "aggregate(Z, floor_date(index(Z), \"month\"), mean)"
   ]
  },
  {
   "cell_type": "code",
   "execution_count": 38,
   "id": "liquid-phase",
   "metadata": {},
   "outputs": [
    {
     "data": {
      "text/plain": [
       "                   Aa         Bb         Cc\n",
       "2021-01-01 -0.1459740 -1.7359596 -1.8397033\n",
       "2021-02-01  0.3027276  1.0076746  1.5254156\n",
       "2021-03-01 -0.5405787  0.1058980  0.1667820\n",
       "2021-04-01  1.1929626  1.2185183 -0.9888373\n",
       "2021-05-01 -0.5000138  0.8102893 -0.6458542\n",
       "2021-06-01 -0.2598216 -0.8658936 -0.6136069"
      ]
     },
     "metadata": {},
     "output_type": "display_data"
    }
   ],
   "source": [
    "# first value of a month\n",
    "aggregate(Z, floor_date(index(Z), \"month\"), head, 1)"
   ]
  },
  {
   "cell_type": "markdown",
   "id": "prescribed-christopher",
   "metadata": {},
   "source": [
    "Disaggregating is the opposite of aggregating. It can be done by\n",
    "\n",
    "1. Inserting `NA` values for intermediate subinterval periods (e.g., quarterly `NA`s within yearly observations)\n",
    "2. Using interpolation functions (e.g., `na.approx()`, `na.locf()`, and `na.spline()`) to impute the values"
   ]
  },
  {
   "cell_type": "code",
   "execution_count": 39,
   "id": "upper-still",
   "metadata": {},
   "outputs": [
    {
     "data": {
      "text/plain": [
       "2000 2001 2002 2003 2004 2005 2006 2007 2008 2009 \n",
       "   1    8   27   64  125  216  343  512  729 1000 "
      ]
     },
     "metadata": {},
     "output_type": "display_data"
    }
   ],
   "source": [
    "# create a yearly series\n",
    "Z.yearly <- zoo(c(1:10)^3, seq(2000, 2009, 1), 1)\n",
    "Z.yearly"
   ]
  },
  {
   "cell_type": "code",
   "execution_count": 40,
   "id": "closing-assembly",
   "metadata": {},
   "outputs": [
    {
     "name": "stderr",
     "output_type": "stream",
     "text": [
      "Warning message in merge.zoo(Z.yearly, zoo(order.by = seq(2000, 2009, 1/4), frequency = 4)):\n",
      "“Index vectors are of different classes: numeric yearqtr”\n"
     ]
    },
    {
     "data": {
      "text/plain": [
       "2000(1) 2000(2) 2000(3) 2000(4) 2001(1) 2001(2) 2001(3) 2001(4) 2002(1) 2002(2) \n",
       "      1      NA      NA      NA       8      NA      NA      NA      27      NA \n",
       "2002(3) 2002(4) 2003(1) 2003(2) 2003(3) 2003(4) 2004(1) 2004(2) 2004(3) 2004(4) \n",
       "     NA      NA      64      NA      NA      NA     125      NA      NA      NA \n",
       "2005(1) 2005(2) 2005(3) 2005(4) 2006(1) 2006(2) 2006(3) 2006(4) 2007(1) 2007(2) \n",
       "    216      NA      NA      NA     343      NA      NA      NA     512      NA \n",
       "2007(3) 2007(4) 2008(1) 2008(2) 2008(3) 2008(4) 2009(1) \n",
       "     NA      NA     729      NA      NA      NA    1000 "
      ]
     },
     "metadata": {},
     "output_type": "display_data"
    }
   ],
   "source": [
    "# insert NAs for intermediate subintervals\n",
    "Z.quarterly <- merge(Z.yearly, zoo(order.by = seq(2000, 2009, 1/4), frequency = 4))\n",
    "Z.quarterly"
   ]
  },
  {
   "cell_type": "code",
   "execution_count": 41,
   "id": "serious-detection",
   "metadata": {},
   "outputs": [
    {
     "data": {
      "text/plain": [
       "2000(1) 2000(2) 2000(3) 2000(4) 2001(1) 2001(2) 2001(3) 2001(4) 2002(1) 2002(2) \n",
       "   1.00    2.75    4.50    6.25    8.00   12.75   17.50   22.25   27.00   36.25 \n",
       "2002(3) 2002(4) 2003(1) 2003(2) 2003(3) 2003(4) 2004(1) 2004(2) 2004(3) 2004(4) \n",
       "  45.50   54.75   64.00   79.25   94.50  109.75  125.00  147.75  170.50  193.25 \n",
       "2005(1) 2005(2) 2005(3) 2005(4) 2006(1) 2006(2) 2006(3) 2006(4) 2007(1) 2007(2) \n",
       " 216.00  247.75  279.50  311.25  343.00  385.25  427.50  469.75  512.00  566.25 \n",
       "2007(3) 2007(4) 2008(1) 2008(2) 2008(3) 2008(4) 2009(1) \n",
       " 620.50  674.75  729.00  796.75  864.50  932.25 1000.00 "
      ]
     },
     "metadata": {},
     "output_type": "display_data"
    }
   ],
   "source": [
    "# na.approx is linear approximation\n",
    "Z.quarterly.approx <- na.approx(Z.quarterly)\n",
    "Z.quarterly.approx"
   ]
  },
  {
   "cell_type": "code",
   "execution_count": 42,
   "id": "unauthorized-cookie",
   "metadata": {},
   "outputs": [
    {
     "data": {
      "image/png": "[encoded data removed]",
      "text/plain": [
       "Plot with title “”"
      ]
     },
     "metadata": {
      "image/png": {
       "height": 420,
       "width": 420
      }
     },
     "output_type": "display_data"
    }
   ],
   "source": [
    "plot(Z.quarterly.approx)"
   ]
  },
  {
   "cell_type": "code",
   "execution_count": 43,
   "id": "usual-proof",
   "metadata": {},
   "outputs": [
    {
     "data": {
      "text/plain": [
       "2000(1) 2000(2) 2000(3) 2000(4) 2001(1) 2001(2) 2001(3) 2001(4) 2002(1) 2002(2) \n",
       "      1       1       1       1       8       8       8       8      27      27 \n",
       "2002(3) 2002(4) 2003(1) 2003(2) 2003(3) 2003(4) 2004(1) 2004(2) 2004(3) 2004(4) \n",
       "     27      27      64      64      64      64     125     125     125     125 \n",
       "2005(1) 2005(2) 2005(3) 2005(4) 2006(1) 2006(2) 2006(3) 2006(4) 2007(1) 2007(2) \n",
       "    216     216     216     216     343     343     343     343     512     512 \n",
       "2007(3) 2007(4) 2008(1) 2008(2) 2008(3) 2008(4) 2009(1) \n",
       "    512     512     729     729     729     729    1000 "
      ]
     },
     "metadata": {},
     "output_type": "display_data"
    }
   ],
   "source": [
    "# na.locf is last observation carry forward\n",
    "Z.quarterly.locf <- na.locf(Z.quarterly)\n",
    "Z.quarterly.locf"
   ]
  },
  {
   "cell_type": "code",
   "execution_count": 44,
   "id": "dangerous-doubt",
   "metadata": {},
   "outputs": [
    {
     "data": {
      "image/png": "[encoded data removed]",
      "text/plain": [
       "Plot with title “”"
      ]
     },
     "metadata": {
      "image/png": {
       "height": 420,
       "width": 420
      }
     },
     "output_type": "display_data"
    }
   ],
   "source": [
    "plot(Z.quarterly.locf)"
   ]
  },
  {
   "cell_type": "code",
   "execution_count": 45,
   "id": "seventh-institution",
   "metadata": {},
   "outputs": [
    {
     "data": {
      "text/plain": [
       "    2000(1)     2000(2)     2000(3)     2000(4)     2001(1)     2001(2) \n",
       "   1.000000    1.953125    3.375000    5.359375    8.000000   11.390625 \n",
       "    2001(3)     2001(4)     2002(1)     2002(2)     2002(3)     2002(4) \n",
       "  15.625000   20.796875   27.000000   34.328125   42.875000   52.734375 \n",
       "    2003(1)     2003(2)     2003(3)     2003(4)     2004(1)     2004(2) \n",
       "  64.000000   76.765625   91.125000  107.171875  125.000000  144.703125 \n",
       "    2004(3)     2004(4)     2005(1)     2005(2)     2005(3)     2005(4) \n",
       " 166.375000  190.109375  216.000000  244.140625  274.625000  307.546875 \n",
       "    2006(1)     2006(2)     2006(3)     2006(4)     2007(1)     2007(2) \n",
       " 343.000000  381.078125  421.875000  465.484375  512.000000  561.515625 \n",
       "    2007(3)     2007(4)     2008(1)     2008(2)     2008(3)     2008(4) \n",
       " 614.125000  669.921875  729.000000  791.453125  857.375000  926.859375 \n",
       "    2009(1) \n",
       "1000.000000 "
      ]
     },
     "metadata": {},
     "output_type": "display_data"
    }
   ],
   "source": [
    "# na.spline used spline interpolation\n",
    "Z.quarterly.spline <- na.spline(Z.quarterly)\n",
    "Z.quarterly.spline"
   ]
  },
  {
   "cell_type": "code",
   "execution_count": 46,
   "id": "former-worse",
   "metadata": {},
   "outputs": [
    {
     "data": {
      "image/png": "[encoded data removed]",
      "text/plain": [
       "Plot with title “”"
      ]
     },
     "metadata": {
      "image/png": {
       "height": 420,
       "width": 420
      }
     },
     "output_type": "display_data"
    }
   ],
   "source": [
    "plot(Z.quarterly.spline)"
   ]
  },
  {
   "cell_type": "markdown",
   "id": "afraid-toyota",
   "metadata": {},
   "source": [
    "## Replacing data and index"
   ]
  },
  {
   "cell_type": "markdown",
   "id": "asian-study",
   "metadata": {},
   "source": [
    "`coredata()` and `index()` functions can be used to extract the data and index elements of a `zoo` object. They have two companion functions (i.e., `coredata(...)<-` and `index(...)<-`) that allow assignment."
   ]
  },
  {
   "cell_type": "code",
   "execution_count": 47,
   "id": "fiscal-navigator",
   "metadata": {},
   "outputs": [
    {
     "data": {
      "text/plain": [
       "                    Aa          Bb         Cc\n",
       "2020-01-01 -0.14597401 -1.73595956 -1.8397033\n",
       "2020-01-09 -0.49754041  0.75830249 -0.8349174\n",
       "2020-01-12 -0.19747538 -1.28239489  0.8786695\n",
       "2020-01-13  1.01913862  0.47079208 -0.4901370\n",
       "2020-01-15  0.04630992  0.09710551  0.5546205\n",
       "2020-01-17 -1.18927963 -0.73329159  0.7460067"
      ]
     },
     "metadata": {},
     "output_type": "display_data"
    }
   ],
   "source": [
    "index(Z) <- ymd(index(Z)) - years(1)\n",
    "head(Z)"
   ]
  },
  {
   "cell_type": "code",
   "execution_count": 48,
   "id": "similar-validation",
   "metadata": {},
   "outputs": [
    {
     "data": {
      "text/plain": [
       "                    Aa         Bb        Cc\n",
       "2020-01-01 -0.29194801 -3.4719191 -3.679407\n",
       "2020-01-09 -0.99508082  1.5166050 -1.669835\n",
       "2020-01-12 -0.39495076 -2.5647898  1.757339\n",
       "2020-01-13  2.03827724  0.9415842 -0.980274\n",
       "2020-01-15  0.09261983  0.1942110  1.109241\n",
       "2020-01-17 -2.37855926 -1.4665832  1.492013"
      ]
     },
     "metadata": {},
     "output_type": "display_data"
    }
   ],
   "source": [
    "coredata(Z) <- coredata(Z) * 2\n",
    "head(Z)"
   ]
  },
  {
   "cell_type": "markdown",
   "id": "computational-plymouth",
   "metadata": {},
   "source": [
    "`window(...)<-` can be used to replace the data for a window rather than the entire `zoo` object."
   ]
  },
  {
   "cell_type": "code",
   "execution_count": 49,
   "id": "basic-honduras",
   "metadata": {},
   "outputs": [
    {
     "data": {
      "text/plain": [
       "                   Aa        Bb         Cc\n",
       "2020-05-27 -2.6071029  1.352302 -3.2673285\n",
       "2020-05-29 -0.5088015 -4.502878  1.7965025\n",
       "2020-05-30 -1.6757775  2.136625  1.4571510\n",
       "2020-06-05 -0.5196433 -1.731787 -1.2272137\n",
       "2020-06-06  0.3422016  2.170683 -0.2748664\n",
       "2020-06-16 -3.0148880 -0.157523 -1.5571390"
      ]
     },
     "metadata": {},
     "output_type": "display_data"
    }
   ],
   "source": [
    "# the pre-replacement tail\n",
    "tail(Z)"
   ]
  },
  {
   "cell_type": "code",
   "execution_count": 50,
   "id": "played-voluntary",
   "metadata": {},
   "outputs": [
    {
     "data": {
      "text/plain": [
       "                   Aa        Bb         Cc\n",
       "2020-05-27 -2.6071029  1.352302 -3.2673285\n",
       "2020-05-29 -0.5088015 -4.502878  1.7965025\n",
       "2020-05-30 -1.6757775  2.136625  1.4571510\n",
       "2020-06-05 -0.5196433 -1.731787 -1.2272137\n",
       "2020-06-06  0.3422016  2.170683 -0.2748664\n",
       "2020-06-16 -3.0148880 -0.157523 -1.5571390"
      ]
     },
     "metadata": {},
     "output_type": "display_data"
    }
   ],
   "source": [
    "# replace the tail using window()<-\n",
    "window(Z, start = ymd(\"2021-05-27\")) <- coredata(window(Z, start = ymd(\"2021-05-27\"))) * 2\n",
    "tail(Z)"
   ]
  },
  {
   "cell_type": "markdown",
   "id": "viral-storage",
   "metadata": {},
   "source": [
    "## Lagging and diffing"
   ]
  },
  {
   "cell_type": "markdown",
   "id": "southern-french",
   "metadata": {},
   "source": [
    "One common operation done on an indexed series is to find previous (i.e., `lagging = -1`) and subsequent (i.e., `lagging = 1`) values. "
   ]
  },
  {
   "cell_type": "code",
   "execution_count": 51,
   "id": "seasonal-signature",
   "metadata": {},
   "outputs": [
    {
     "data": {
      "text/plain": [
       "                    Aa         Bb        Cc\n",
       "2020-01-01 -0.29194801 -3.4719191 -3.679407\n",
       "2020-01-09 -0.99508082  1.5166050 -1.669835\n",
       "2020-01-12 -0.39495076 -2.5647898  1.757339\n",
       "2020-01-13  2.03827724  0.9415842 -0.980274\n",
       "2020-01-15  0.09261983  0.1942110  1.109241\n",
       "2020-01-17 -2.37855926 -1.4665832  1.492013"
      ]
     },
     "metadata": {},
     "output_type": "display_data"
    }
   ],
   "source": [
    "head(Z)"
   ]
  },
  {
   "cell_type": "code",
   "execution_count": 52,
   "id": "numerical-sixth",
   "metadata": {},
   "outputs": [
    {
     "data": {
      "text/plain": [
       "                    Aa         Bb        Cc\n",
       "2020-01-09 -0.29194801 -3.4719191 -3.679407\n",
       "2020-01-12 -0.99508082  1.5166050 -1.669835\n",
       "2020-01-13 -0.39495076 -2.5647898  1.757339\n",
       "2020-01-15  2.03827724  0.9415842 -0.980274\n",
       "2020-01-17  0.09261983  0.1942110  1.109241\n",
       "2020-01-27 -2.37855926 -1.4665832  1.492013"
      ]
     },
     "metadata": {},
     "output_type": "display_data"
    }
   ],
   "source": [
    "# previous values\n",
    "head(lag(Z, k = -1))"
   ]
  },
  {
   "cell_type": "code",
   "execution_count": 53,
   "id": "biological-ranking",
   "metadata": {},
   "outputs": [
    {
     "data": {
      "text/plain": [
       "                    Aa         Bb        Cc\n",
       "2020-01-01 -0.99508082  1.5166050 -1.669835\n",
       "2020-01-09 -0.39495076 -2.5647898  1.757339\n",
       "2020-01-12  2.03827724  0.9415842 -0.980274\n",
       "2020-01-13  0.09261983  0.1942110  1.109241\n",
       "2020-01-15 -2.37855926 -1.4665832  1.492013\n",
       "2020-01-17  0.57162595 -1.7375311 -1.530006"
      ]
     },
     "metadata": {},
     "output_type": "display_data"
    }
   ],
   "source": [
    "# subsequent values\n",
    "head(lag(Z, k = 1))"
   ]
  },
  {
   "cell_type": "markdown",
   "id": "hungry-happening",
   "metadata": {},
   "source": [
    "The `diff()` function computes the difference between the current value and the previous value."
   ]
  },
  {
   "cell_type": "code",
   "execution_count": 54,
   "id": "indonesian-accuracy",
   "metadata": {},
   "outputs": [
    {
     "data": {
      "text/plain": [
       "                   Aa         Bb         Cc\n",
       "2020-01-09 -0.7031328  4.9885241  2.0095718\n",
       "2020-01-12  0.6001301 -4.0813948  3.4271737\n",
       "2020-01-13  2.4332280  3.5063739 -2.7376129\n",
       "2020-01-15 -1.9456574 -0.7473731  2.0895150\n",
       "2020-01-17 -2.4711791 -1.6607942  0.3827723\n",
       "2020-01-27  2.9501852 -0.2709480 -3.0220195"
      ]
     },
     "metadata": {},
     "output_type": "display_data"
    }
   ],
   "source": [
    "head(diff(Z))"
   ]
  },
  {
   "cell_type": "markdown",
   "id": "intellectual-brief",
   "metadata": {},
   "source": [
    "## Rolling functions"
   ]
  },
  {
   "cell_type": "markdown",
   "id": "acknowledged-fitness",
   "metadata": {},
   "source": [
    "A typical task to be performed on ordered observations is to evaluate some function, e.g., computing the mean, in a *window of observations* that is moved over the full sample period."
   ]
  },
  {
   "cell_type": "markdown",
   "id": "fancy-haiti",
   "metadata": {},
   "source": [
    "`rollapply()` is the generic function that applies another function to a rolling window."
   ]
  },
  {
   "cell_type": "markdown",
   "id": "forty-forge",
   "metadata": {},
   "source": [
    "`rollapply(data, width, FUN)` is the most basic form of calling the `rollapply()` function.\n",
    "\n",
    "1. `data` accepts a `zoo` or `ts` object.\n",
    "1. `width` indicates the length of the window.\n",
    "1. `FUN` refers to the summary function to be applied onto each window."
   ]
  },
  {
   "cell_type": "code",
   "execution_count": 56,
   "id": "armed-morris",
   "metadata": {},
   "outputs": [
    {
     "data": {
      "text/plain": [
       "                   Aa         Bb         Cc\n",
       "2020-01-12  0.0897835 -0.6768617 -0.6925870\n",
       "2020-01-13 -0.3275388 -0.2757946  0.3416969\n",
       "2020-01-15 -0.0141974 -0.9266218  0.3696627\n",
       "2020-01-17 -0.5040550 -0.3933492 -0.4163079\n",
       "2020-01-27 -0.7906194 -0.1785962  0.3899131\n",
       "2020-01-28 -1.6106939 -0.2757156  0.5873366"
      ]
     },
     "metadata": {},
     "output_type": "display_data"
    }
   ],
   "source": [
    "head(rollapply(Z, 5, mean))"
   ]
  },
  {
   "cell_type": "markdown",
   "id": "greatest-stomach",
   "metadata": {},
   "source": [
    "By default, the alignment (controlled by the `align` argument) of the window (think of an anchor point for each window) is set to `\"center\"`. For a window of 5 observations, the center is the middle observation. One can change the argument to `left` or `right` if needed."
   ]
  },
  {
   "cell_type": "code",
   "execution_count": 57,
   "id": "verbal-investigation",
   "metadata": {},
   "outputs": [
    {
     "data": {
      "text/html": [
       "<style>\n",
       ".list-inline {list-style: none; margin:0; padding: 0}\n",
       ".list-inline>li {display: inline-block}\n",
       ".list-inline>li:not(:last-child)::after {content: \"\\00b7\"; padding: 0 .5ex}\n",
       "</style>\n",
       "<ol class=list-inline><li><time datetime=\"2020-01-01\">2020-01-01</time></li><li><time datetime=\"2020-01-09\">2020-01-09</time></li><li><time datetime=\"2020-01-12\">2020-01-12</time></li><li><time datetime=\"2020-01-13\">2020-01-13</time></li><li><time datetime=\"2020-01-15\">2020-01-15</time></li><li><time datetime=\"2020-01-17\">2020-01-17</time></li></ol>\n"
      ],
      "text/latex": [
       "\\begin{enumerate*}\n",
       "\\item 2020-01-01\n",
       "\\item 2020-01-09\n",
       "\\item 2020-01-12\n",
       "\\item 2020-01-13\n",
       "\\item 2020-01-15\n",
       "\\item 2020-01-17\n",
       "\\end{enumerate*}\n"
      ],
      "text/markdown": [
       "1. 2020-01-01\n",
       "2. 2020-01-09\n",
       "3. 2020-01-12\n",
       "4. 2020-01-13\n",
       "5. 2020-01-15\n",
       "6. 2020-01-17\n",
       "\n",
       "\n"
      ],
      "text/plain": [
       "[1] \"2020-01-01\" \"2020-01-09\" \"2020-01-12\" \"2020-01-13\" \"2020-01-15\"\n",
       "[6] \"2020-01-17\""
      ]
     },
     "metadata": {},
     "output_type": "display_data"
    }
   ],
   "source": [
    "head(index(Z))"
   ]
  },
  {
   "cell_type": "markdown",
   "id": "encouraging-stick",
   "metadata": {},
   "source": [
    "`2020-01-12` is the center of the first full window of 5 observations. Hence, it's the first observation in the result of the `rollapply()` call earlier."
   ]
  },
  {
   "cell_type": "markdown",
   "id": "synthetic-spell",
   "metadata": {},
   "source": [
    "One can control if a partial window is allowed by using the `partial` argument."
   ]
  },
  {
   "cell_type": "code",
   "execution_count": 58,
   "id": "recognized-lemon",
   "metadata": {},
   "outputs": [
    {
     "data": {
      "text/plain": [
       "                    Aa         Bb         Cc\n",
       "2020-01-01 -0.56065986 -1.5067013 -1.1973008\n",
       "2020-01-09  0.08907441 -0.8946299 -1.1430441\n",
       "2020-01-12  0.08978350 -0.6768617 -0.6925870\n",
       "2020-01-13 -0.32753875 -0.2757946  0.3416969\n",
       "2020-01-15 -0.01419740 -0.9266218  0.3696627\n",
       "2020-01-17 -0.50405497 -0.3933492 -0.4163079"
      ]
     },
     "metadata": {},
     "output_type": "display_data"
    }
   ],
   "source": [
    "# when partial window is allowed\n",
    "head(rollapply(Z, 5, mean, partial = TRUE))"
   ]
  },
  {
   "cell_type": "markdown",
   "id": "comprehensive-criterion",
   "metadata": {},
   "source": [
    "Here the first observation in the result (indexed by `2020-01-01`) is a summary of 3 observations (fewer than the window size of 5 because `partial = TRUE`), namely, `2020-01-01`, `2020-01-09`, and `2020-01-12`."
   ]
  },
  {
   "cell_type": "code",
   "execution_count": 59,
   "id": "instrumental-fabric",
   "metadata": {},
   "outputs": [
    {
     "data": {
      "text/plain": [
       "           Aa Bb Cc\n",
       "2020-01-01  3  3  3\n",
       "2020-01-09  4  4  4\n",
       "2020-01-12  5  5  5\n",
       "2020-01-13  5  5  5\n",
       "2020-01-15  5  5  5\n",
       "2020-01-17  5  5  5"
      ]
     },
     "metadata": {},
     "output_type": "display_data"
    }
   ],
   "source": [
    "# number of observations in partial windows\n",
    "head(rollapply(Z, 5, length, partial = TRUE))"
   ]
  }
 ],
 "metadata": {
  "kernelspec": {
   "display_name": "R",
   "language": "R",
   "name": "ir"
  },
  "language_info": {
   "codemirror_mode": "r",
   "file_extension": ".r",
   "mimetype": "text/x-r-source",
   "name": "R",
   "pygments_lexer": "r",
   "version": "4.0.3"
  },
  "toc": {
   "base_numbering": 1,
   "nav_menu": {
    "height": "304px",
    "width": "592px"
   },
   "number_sections": true,
   "sideBar": true,
   "skip_h1_title": false,
   "title_cell": "Table of Contents",
   "title_sidebar": "Contents",
   "toc_cell": false,
   "toc_position": {},
   "toc_section_display": true,
   "toc_window_display": false
  }
 },
 "nbformat": 4,
 "nbformat_minor": 5
}
