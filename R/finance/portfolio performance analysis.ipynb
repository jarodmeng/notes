{
 "cells": [
  {
   "cell_type": "markdown",
   "id": "elementary-disclosure",
   "metadata": {},
   "source": [
    "## price and shares framework"
   ]
  },
  {
   "cell_type": "code",
   "execution_count": 1,
   "id": "faced-sunglasses",
   "metadata": {},
   "outputs": [],
   "source": [
    "prices = cbind(c(5, 7, 6, 7), c(10, 11, 12, 8))"
   ]
  },
  {
   "cell_type": "code",
   "execution_count": 2,
   "id": "opponent-magnet",
   "metadata": {},
   "outputs": [
    {
     "data": {
      "text/html": [
       "<table>\n",
       "<caption>A matrix: 4 × 2 of type dbl</caption>\n",
       "<tbody>\n",
       "\t<tr><td>5</td><td>10</td></tr>\n",
       "\t<tr><td>7</td><td>11</td></tr>\n",
       "\t<tr><td>6</td><td>12</td></tr>\n",
       "\t<tr><td>7</td><td> 8</td></tr>\n",
       "</tbody>\n",
       "</table>\n"
      ],
      "text/latex": [
       "A matrix: 4 × 2 of type dbl\n",
       "\\begin{tabular}{ll}\n",
       "\t 5 & 10\\\\\n",
       "\t 7 & 11\\\\\n",
       "\t 6 & 12\\\\\n",
       "\t 7 &  8\\\\\n",
       "\\end{tabular}\n"
      ],
      "text/markdown": [
       "\n",
       "A matrix: 4 × 2 of type dbl\n",
       "\n",
       "| 5 | 10 |\n",
       "| 7 | 11 |\n",
       "| 6 | 12 |\n",
       "| 7 |  8 |\n",
       "\n"
      ],
      "text/plain": [
       "     [,1] [,2]\n",
       "[1,] 5    10  \n",
       "[2,] 7    11  \n",
       "[3,] 6    12  \n",
       "[4,] 7     8  "
      ]
     },
     "metadata": {},
     "output_type": "display_data"
    }
   ],
   "source": [
    "prices"
   ]
  },
  {
   "cell_type": "code",
   "execution_count": 3,
   "id": "polar-livestock",
   "metadata": {},
   "outputs": [],
   "source": [
    "dimnames(prices) = list(paste0(\"t\",0:3), c(\"A\", \"B\"))"
   ]
  },
  {
   "cell_type": "code",
   "execution_count": 4,
   "id": "entitled-growth",
   "metadata": {},
   "outputs": [
    {
     "data": {
      "text/html": [
       "<table>\n",
       "<caption>A matrix: 4 × 2 of type dbl</caption>\n",
       "<thead>\n",
       "\t<tr><th></th><th scope=col>A</th><th scope=col>B</th></tr>\n",
       "</thead>\n",
       "<tbody>\n",
       "\t<tr><th scope=row>t0</th><td>5</td><td>10</td></tr>\n",
       "\t<tr><th scope=row>t1</th><td>7</td><td>11</td></tr>\n",
       "\t<tr><th scope=row>t2</th><td>6</td><td>12</td></tr>\n",
       "\t<tr><th scope=row>t3</th><td>7</td><td> 8</td></tr>\n",
       "</tbody>\n",
       "</table>\n"
      ],
      "text/latex": [
       "A matrix: 4 × 2 of type dbl\n",
       "\\begin{tabular}{r|ll}\n",
       "  & A & B\\\\\n",
       "\\hline\n",
       "\tt0 & 5 & 10\\\\\n",
       "\tt1 & 7 & 11\\\\\n",
       "\tt2 & 6 & 12\\\\\n",
       "\tt3 & 7 &  8\\\\\n",
       "\\end{tabular}\n"
      ],
      "text/markdown": [
       "\n",
       "A matrix: 4 × 2 of type dbl\n",
       "\n",
       "| <!--/--> | A | B |\n",
       "|---|---|---|\n",
       "| t0 | 5 | 10 |\n",
       "| t1 | 7 | 11 |\n",
       "| t2 | 6 | 12 |\n",
       "| t3 | 7 |  8 |\n",
       "\n"
      ],
      "text/plain": [
       "   A B \n",
       "t0 5 10\n",
       "t1 7 11\n",
       "t2 6 12\n",
       "t3 7  8"
      ]
     },
     "metadata": {},
     "output_type": "display_data"
    }
   ],
   "source": [
    "prices"
   ]
  },
  {
   "cell_type": "code",
   "execution_count": 5,
   "id": "affected-strategy",
   "metadata": {},
   "outputs": [],
   "source": [
    "# initial portfolio value (investment)\n",
    "V_P0 = 1000"
   ]
  },
  {
   "cell_type": "code",
   "execution_count": 7,
   "id": "hidden-probability",
   "metadata": {},
   "outputs": [
    {
     "data": {
      "text/html": [
       "2"
      ],
      "text/latex": [
       "2"
      ],
      "text/markdown": [
       "2"
      ],
      "text/plain": [
       "[1] 2"
      ]
     },
     "metadata": {},
     "output_type": "display_data"
    }
   ],
   "source": [
    "# num of assets\n",
    "N = ncol(prices)\n",
    "N"
   ]
  },
  {
   "cell_type": "code",
   "execution_count": 8,
   "id": "caring-small",
   "metadata": {},
   "outputs": [
    {
     "data": {
      "text/html": [
       "<style>\n",
       ".list-inline {list-style: none; margin:0; padding: 0}\n",
       ".list-inline>li {display: inline-block}\n",
       ".list-inline>li:not(:last-child)::after {content: \"\\00b7\"; padding: 0 .5ex}\n",
       "</style>\n",
       "<ol class=list-inline><li>0.5</li><li>0.5</li></ol>\n"
      ],
      "text/latex": [
       "\\begin{enumerate*}\n",
       "\\item 0.5\n",
       "\\item 0.5\n",
       "\\end{enumerate*}\n"
      ],
      "text/markdown": [
       "1. 0.5\n",
       "2. 0.5\n",
       "\n",
       "\n"
      ],
      "text/plain": [
       "[1] 0.5 0.5"
      ]
     },
     "metadata": {},
     "output_type": "display_data"
    }
   ],
   "source": [
    "# equal weighting of assets\n",
    "w = rep(1 / N, N)\n",
    "w"
   ]
  },
  {
   "cell_type": "code",
   "execution_count": 9,
   "id": "separate-cleaning",
   "metadata": {},
   "outputs": [
    {
     "data": {
      "text/html": [
       "<style>\n",
       ".dl-inline {width: auto; margin:0; padding: 0}\n",
       ".dl-inline>dt, .dl-inline>dd {float: none; width: auto; display: inline-block}\n",
       ".dl-inline>dt::after {content: \":\\0020\"; padding-right: .5ex}\n",
       ".dl-inline>dt:not(:first-of-type) {padding-left: .5ex}\n",
       "</style><dl class=dl-inline><dt>A</dt><dd>100</dd><dt>B</dt><dd>50</dd></dl>\n"
      ],
      "text/latex": [
       "\\begin{description*}\n",
       "\\item[A] 100\n",
       "\\item[B] 50\n",
       "\\end{description*}\n"
      ],
      "text/markdown": [
       "A\n",
       ":   100B\n",
       ":   50\n",
       "\n"
      ],
      "text/plain": [
       "  A   B \n",
       "100  50 "
      ]
     },
     "metadata": {},
     "output_type": "display_data"
    }
   ],
   "source": [
    "# number of shares of each asset\n",
    "lambda = w * V_P0 / prices[\"t0\",]\n",
    "lambda"
   ]
  },
  {
   "cell_type": "code",
   "execution_count": 10,
   "id": "documentary-heart",
   "metadata": {},
   "outputs": [
    {
     "data": {
      "text/html": [
       "<table>\n",
       "<caption>A matrix: 4 × 2 of type dbl</caption>\n",
       "<thead>\n",
       "\t<tr><th></th><th scope=col>A</th><th scope=col>B</th></tr>\n",
       "</thead>\n",
       "<tbody>\n",
       "\t<tr><th scope=row>t0</th><td>0</td><td>0</td></tr>\n",
       "\t<tr><th scope=row>t1</th><td>0</td><td>0</td></tr>\n",
       "\t<tr><th scope=row>t2</th><td>0</td><td>0</td></tr>\n",
       "\t<tr><th scope=row>t3</th><td>0</td><td>0</td></tr>\n",
       "</tbody>\n",
       "</table>\n"
      ],
      "text/latex": [
       "A matrix: 4 × 2 of type dbl\n",
       "\\begin{tabular}{r|ll}\n",
       "  & A & B\\\\\n",
       "\\hline\n",
       "\tt0 & 0 & 0\\\\\n",
       "\tt1 & 0 & 0\\\\\n",
       "\tt2 & 0 & 0\\\\\n",
       "\tt3 & 0 & 0\\\\\n",
       "\\end{tabular}\n"
      ],
      "text/markdown": [
       "\n",
       "A matrix: 4 × 2 of type dbl\n",
       "\n",
       "| <!--/--> | A | B |\n",
       "|---|---|---|\n",
       "| t0 | 0 | 0 |\n",
       "| t1 | 0 | 0 |\n",
       "| t2 | 0 | 0 |\n",
       "| t3 | 0 | 0 |\n",
       "\n"
      ],
      "text/plain": [
       "   A B\n",
       "t0 0 0\n",
       "t1 0 0\n",
       "t2 0 0\n",
       "t3 0 0"
      ]
     },
     "metadata": {},
     "output_type": "display_data"
    }
   ],
   "source": [
    "# empty asset values\n",
    "V_assets <- matrix(0, nrow(prices), ncol(prices), dimnames=dimnames(prices))\n",
    "V_assets"
   ]
  },
  {
   "cell_type": "code",
   "execution_count": 11,
   "id": "proper-nation",
   "metadata": {},
   "outputs": [
    {
     "data": {
      "text/html": [
       "<table>\n",
       "<caption>A matrix: 4 × 2 of type dbl</caption>\n",
       "<thead>\n",
       "\t<tr><th></th><th scope=col>A</th><th scope=col>B</th></tr>\n",
       "</thead>\n",
       "<tbody>\n",
       "\t<tr><th scope=row>t0</th><td>500</td><td>500</td></tr>\n",
       "\t<tr><th scope=row>t1</th><td>700</td><td>550</td></tr>\n",
       "\t<tr><th scope=row>t2</th><td>600</td><td>600</td></tr>\n",
       "\t<tr><th scope=row>t3</th><td>700</td><td>400</td></tr>\n",
       "</tbody>\n",
       "</table>\n"
      ],
      "text/latex": [
       "A matrix: 4 × 2 of type dbl\n",
       "\\begin{tabular}{r|ll}\n",
       "  & A & B\\\\\n",
       "\\hline\n",
       "\tt0 & 500 & 500\\\\\n",
       "\tt1 & 700 & 550\\\\\n",
       "\tt2 & 600 & 600\\\\\n",
       "\tt3 & 700 & 400\\\\\n",
       "\\end{tabular}\n"
      ],
      "text/markdown": [
       "\n",
       "A matrix: 4 × 2 of type dbl\n",
       "\n",
       "| <!--/--> | A | B |\n",
       "|---|---|---|\n",
       "| t0 | 500 | 500 |\n",
       "| t1 | 700 | 550 |\n",
       "| t2 | 600 | 600 |\n",
       "| t3 | 700 | 400 |\n",
       "\n"
      ],
      "text/plain": [
       "   A   B  \n",
       "t0 500 500\n",
       "t1 700 550\n",
       "t2 600 600\n",
       "t3 700 400"
      ]
     },
     "metadata": {},
     "output_type": "display_data"
    }
   ],
   "source": [
    "for(i in 1:nrow(prices)){\n",
    "    V_assets[i,] = prices[i,] * lambda\n",
    "}\n",
    "V_assets"
   ]
  },
  {
   "cell_type": "code",
   "execution_count": 13,
   "id": "entitled-insured",
   "metadata": {},
   "outputs": [
    {
     "data": {
      "text/html": [
       "<style>\n",
       ".dl-inline {width: auto; margin:0; padding: 0}\n",
       ".dl-inline>dt, .dl-inline>dd {float: none; width: auto; display: inline-block}\n",
       ".dl-inline>dt::after {content: \":\\0020\"; padding-right: .5ex}\n",
       ".dl-inline>dt:not(:first-of-type) {padding-left: .5ex}\n",
       "</style><dl class=dl-inline><dt>t0</dt><dd>1000</dd><dt>t1</dt><dd>1250</dd><dt>t2</dt><dd>1200</dd><dt>t3</dt><dd>1100</dd></dl>\n"
      ],
      "text/latex": [
       "\\begin{description*}\n",
       "\\item[t0] 1000\n",
       "\\item[t1] 1250\n",
       "\\item[t2] 1200\n",
       "\\item[t3] 1100\n",
       "\\end{description*}\n"
      ],
      "text/markdown": [
       "t0\n",
       ":   1000t1\n",
       ":   1250t2\n",
       ":   1200t3\n",
       ":   1100\n",
       "\n"
      ],
      "text/plain": [
       "  t0   t1   t2   t3 \n",
       "1000 1250 1200 1100 "
      ]
     },
     "metadata": {},
     "output_type": "display_data"
    }
   ],
   "source": [
    "# portfolio value\n",
    "V_P = rowSums(V_assets)\n",
    "V_P"
   ]
  },
  {
   "cell_type": "code",
   "execution_count": 15,
   "id": "frequent-overhead",
   "metadata": {},
   "outputs": [
    {
     "data": {
      "text/html": [
       "<style>\n",
       ".dl-inline {width: auto; margin:0; padding: 0}\n",
       ".dl-inline>dt, .dl-inline>dd {float: none; width: auto; display: inline-block}\n",
       ".dl-inline>dt::after {content: \":\\0020\"; padding-right: .5ex}\n",
       ".dl-inline>dt:not(:first-of-type) {padding-left: .5ex}\n",
       "</style><dl class=dl-inline><dt>t1</dt><dd>0.25</dd><dt>t2</dt><dd>-0.04</dd><dt>t3</dt><dd>-0.0833333333333333</dd></dl>\n"
      ],
      "text/latex": [
       "\\begin{description*}\n",
       "\\item[t1] 0.25\n",
       "\\item[t2] -0.04\n",
       "\\item[t3] -0.0833333333333333\n",
       "\\end{description*}\n"
      ],
      "text/markdown": [
       "t1\n",
       ":   0.25t2\n",
       ":   -0.04t3\n",
       ":   -0.0833333333333333\n",
       "\n"
      ],
      "text/plain": [
       "         t1          t2          t3 \n",
       " 0.25000000 -0.04000000 -0.08333333 "
      ]
     },
     "metadata": {},
     "output_type": "display_data"
    }
   ],
   "source": [
    "# portfolio returns\n",
    "R_t = diff(V_P) / V_P[1:3]\n",
    "R_t"
   ]
  },
  {
   "cell_type": "code",
   "execution_count": 16,
   "id": "super-speed",
   "metadata": {},
   "outputs": [
    {
     "data": {
      "text/html": [
       "<table>\n",
       "<caption>A matrix: 4 × 2 of type dbl</caption>\n",
       "<thead>\n",
       "\t<tr><th></th><th scope=col>A</th><th scope=col>B</th></tr>\n",
       "</thead>\n",
       "<tbody>\n",
       "\t<tr><th scope=row>t0</th><td>0.5000000</td><td>0.5000000</td></tr>\n",
       "\t<tr><th scope=row>t1</th><td>0.5600000</td><td>0.4400000</td></tr>\n",
       "\t<tr><th scope=row>t2</th><td>0.5000000</td><td>0.5000000</td></tr>\n",
       "\t<tr><th scope=row>t3</th><td>0.6363636</td><td>0.3636364</td></tr>\n",
       "</tbody>\n",
       "</table>\n"
      ],
      "text/latex": [
       "A matrix: 4 × 2 of type dbl\n",
       "\\begin{tabular}{r|ll}\n",
       "  & A & B\\\\\n",
       "\\hline\n",
       "\tt0 & 0.5000000 & 0.5000000\\\\\n",
       "\tt1 & 0.5600000 & 0.4400000\\\\\n",
       "\tt2 & 0.5000000 & 0.5000000\\\\\n",
       "\tt3 & 0.6363636 & 0.3636364\\\\\n",
       "\\end{tabular}\n"
      ],
      "text/markdown": [
       "\n",
       "A matrix: 4 × 2 of type dbl\n",
       "\n",
       "| <!--/--> | A | B |\n",
       "|---|---|---|\n",
       "| t0 | 0.5000000 | 0.5000000 |\n",
       "| t1 | 0.5600000 | 0.4400000 |\n",
       "| t2 | 0.5000000 | 0.5000000 |\n",
       "| t3 | 0.6363636 | 0.3636364 |\n",
       "\n"
      ],
      "text/plain": [
       "   A         B        \n",
       "t0 0.5000000 0.5000000\n",
       "t1 0.5600000 0.4400000\n",
       "t2 0.5000000 0.5000000\n",
       "t3 0.6363636 0.3636364"
      ]
     },
     "metadata": {},
     "output_type": "display_data"
    }
   ],
   "source": [
    "weights = V_assets / V_P\n",
    "weights"
   ]
  },
  {
   "cell_type": "markdown",
   "id": "adolescent-study",
   "metadata": {},
   "source": [
    "## weights and returns framework"
   ]
  },
  {
   "cell_type": "code",
   "execution_count": 17,
   "id": "brief-milan",
   "metadata": {},
   "outputs": [
    {
     "name": "stderr",
     "output_type": "stream",
     "text": [
      "Loading required package: xts\n",
      "\n",
      "Loading required package: zoo\n",
      "\n",
      "\n",
      "Attaching package: ‘zoo’\n",
      "\n",
      "\n",
      "The following objects are masked from ‘package:base’:\n",
      "\n",
      "    as.Date, as.Date.numeric\n",
      "\n",
      "\n",
      "\n",
      "Attaching package: ‘PerformanceAnalytics’\n",
      "\n",
      "\n",
      "The following objects are masked _by_ ‘.GlobalEnv’:\n",
      "\n",
      "    prices, weights\n",
      "\n",
      "\n",
      "The following object is masked from ‘package:graphics’:\n",
      "\n",
      "    legend\n",
      "\n",
      "\n"
     ]
    }
   ],
   "source": [
    "library(PerformanceAnalytics)"
   ]
  },
  {
   "cell_type": "code",
   "execution_count": 19,
   "id": "corporate-degree",
   "metadata": {},
   "outputs": [
    {
     "data": {
      "text/plain": [
       "           Convertible Arbitrage CTA Global Distressed Securities\n",
       "1997-01-31                0.0119     0.0393                0.0178\n",
       "1997-02-28                0.0123     0.0298                0.0122\n",
       "1997-03-31                0.0078    -0.0021               -0.0012\n",
       "1997-04-30                0.0086    -0.0170                0.0030\n",
       "1997-05-31                0.0156    -0.0015                0.0233\n",
       "1997-06-30                0.0212     0.0085                0.0217\n",
       "           Emerging Markets Equity Market Neutral Event Driven\n",
       "1997-01-31           0.0791                0.0189       0.0213\n",
       "1997-02-28           0.0525                0.0101       0.0084\n",
       "1997-03-31          -0.0120                0.0016      -0.0023\n",
       "1997-04-30           0.0119                0.0119      -0.0005\n",
       "1997-05-31           0.0315                0.0189       0.0346\n",
       "1997-06-30           0.0581                0.0165       0.0258\n",
       "           Fixed Income Arbitrage Global Macro Long/Short Equity\n",
       "1997-01-31                 0.0191       0.0573            0.0281\n",
       "1997-02-28                 0.0122       0.0175           -0.0006\n",
       "1997-03-31                 0.0109      -0.0119           -0.0084\n",
       "1997-04-30                 0.0130       0.0172            0.0084\n",
       "1997-05-31                 0.0118       0.0108            0.0394\n",
       "1997-06-30                 0.0108       0.0218            0.0223\n",
       "           Merger Arbitrage Relative Value Short Selling Funds of Funds\n",
       "1997-01-31           0.0150         0.0180       -0.0166         0.0317\n",
       "1997-02-28           0.0034         0.0118        0.0426         0.0106\n",
       "1997-03-31           0.0060         0.0010        0.0778        -0.0077\n",
       "1997-04-30          -0.0001         0.0122       -0.0129         0.0009\n",
       "1997-05-31           0.0197         0.0173       -0.0737         0.0275\n",
       "1997-06-30           0.0231         0.0198       -0.0065         0.0225"
      ]
     },
     "metadata": {},
     "output_type": "display_data"
    }
   ],
   "source": [
    "data(edhec)\n",
    "head(edhec)"
   ]
  },
  {
   "cell_type": "code",
   "execution_count": 20,
   "id": "honey-sheriff",
   "metadata": {},
   "outputs": [
    {
     "data": {
      "text/plain": [
       "               CA    CTAG      DS      EM    EMN\n",
       "1997-01-31 0.0119  0.0393  0.0178  0.0791 0.0189\n",
       "1997-02-28 0.0123  0.0298  0.0122  0.0525 0.0101\n",
       "1997-03-31 0.0078 -0.0021 -0.0012 -0.0120 0.0016\n",
       "1997-04-30 0.0086 -0.0170  0.0030  0.0119 0.0119\n",
       "1997-05-31 0.0156 -0.0015  0.0233  0.0315 0.0189\n",
       "1997-06-30 0.0212  0.0085  0.0217  0.0581 0.0165\n",
       "1997-07-31 0.0193  0.0591  0.0234  0.0560 0.0247\n",
       "1997-08-31 0.0134 -0.0473  0.0147 -0.0066 0.0017\n",
       "1997-09-30 0.0122  0.0198  0.0350  0.0229 0.0202\n",
       "1997-10-31 0.0100 -0.0098 -0.0064 -0.0572 0.0095\n",
       "1997-11-30 0.0000  0.0133  0.0054 -0.0378 0.0041\n",
       "1997-12-31 0.0068  0.0286  0.0073  0.0160 0.0066"
      ]
     },
     "metadata": {},
     "output_type": "display_data"
    }
   ],
   "source": [
    "R = edhec[\"1997\", 1:5]\n",
    "colnames(R) = c(\"CA\", \"CTAG\", \"DS\", \"EM\", \"EMN\")\n",
    "R"
   ]
  },
  {
   "cell_type": "code",
   "execution_count": 21,
   "id": "raising-notice",
   "metadata": {},
   "outputs": [
    {
     "data": {
      "text/html": [
       "5"
      ],
      "text/latex": [
       "5"
      ],
      "text/markdown": [
       "5"
      ],
      "text/plain": [
       "[1] 5"
      ]
     },
     "metadata": {},
     "output_type": "display_data"
    }
   ],
   "source": [
    "# num of assets\n",
    "N = ncol(R)\n",
    "N"
   ]
  },
  {
   "cell_type": "code",
   "execution_count": 23,
   "id": "colored-wilderness",
   "metadata": {},
   "outputs": [
    {
     "data": {
      "text/plain": [
       "            CA CTAG  DS  EM EMN\n",
       "1996-12-31 0.2  0.2 0.2 0.2 0.2"
      ]
     },
     "metadata": {},
     "output_type": "display_data"
    }
   ],
   "source": [
    "weights = xts(matrix(rep(1 / N, N), 1), as.Date(\"1996-12-31\"))\n",
    "colnames(weights) = colnames(R)\n",
    "weights"
   ]
  },
  {
   "cell_type": "code",
   "execution_count": 24,
   "id": "familiar-healthcare",
   "metadata": {},
   "outputs": [],
   "source": [
    "V_0 = 1"
   ]
  },
  {
   "cell_type": "code",
   "execution_count": 26,
   "id": "excellent-oasis",
   "metadata": {},
   "outputs": [
    {
     "data": {
      "text/html": [
       "<table>\n",
       "<caption>A matrix: 2 × 5 of type dbl</caption>\n",
       "<tbody>\n",
       "\t<tr><td>0</td><td>0</td><td>0</td><td>0</td><td>0</td></tr>\n",
       "\t<tr><td>0</td><td>0</td><td>0</td><td>0</td><td>0</td></tr>\n",
       "</tbody>\n",
       "</table>\n"
      ],
      "text/latex": [
       "A matrix: 2 × 5 of type dbl\n",
       "\\begin{tabular}{lllll}\n",
       "\t 0 & 0 & 0 & 0 & 0\\\\\n",
       "\t 0 & 0 & 0 & 0 & 0\\\\\n",
       "\\end{tabular}\n"
      ],
      "text/markdown": [
       "\n",
       "A matrix: 2 × 5 of type dbl\n",
       "\n",
       "| 0 | 0 | 0 | 0 | 0 |\n",
       "| 0 | 0 | 0 | 0 | 0 |\n",
       "\n"
      ],
      "text/plain": [
       "     [,1] [,2] [,3] [,4] [,5]\n",
       "[1,] 0    0    0    0    0   \n",
       "[2,] 0    0    0    0    0   "
      ]
     },
     "metadata": {},
     "output_type": "display_data"
    }
   ],
   "source": [
    "bop_value = eop_value = matrix(0, 2, ncol(R))\n",
    "bop_value"
   ]
  },
  {
   "cell_type": "code",
   "execution_count": 28,
   "id": "sixth-immigration",
   "metadata": {},
   "outputs": [],
   "source": [
    "t = 1"
   ]
  },
  {
   "cell_type": "code",
   "execution_count": 29,
   "id": "scenic-tuesday",
   "metadata": {},
   "outputs": [
    {
     "data": {
      "text/html": [
       "<table>\n",
       "<caption>A matrix: 2 × 5 of type dbl</caption>\n",
       "<tbody>\n",
       "\t<tr><td>0.2</td><td>0.2</td><td>0.2</td><td>0.2</td><td>0.2</td></tr>\n",
       "\t<tr><td>0.0</td><td>0.0</td><td>0.0</td><td>0.0</td><td>0.0</td></tr>\n",
       "</tbody>\n",
       "</table>\n"
      ],
      "text/latex": [
       "A matrix: 2 × 5 of type dbl\n",
       "\\begin{tabular}{lllll}\n",
       "\t 0.2 & 0.2 & 0.2 & 0.2 & 0.2\\\\\n",
       "\t 0.0 & 0.0 & 0.0 & 0.0 & 0.0\\\\\n",
       "\\end{tabular}\n"
      ],
      "text/markdown": [
       "\n",
       "A matrix: 2 × 5 of type dbl\n",
       "\n",
       "| 0.2 | 0.2 | 0.2 | 0.2 | 0.2 |\n",
       "| 0.0 | 0.0 | 0.0 | 0.0 | 0.0 |\n",
       "\n"
      ],
      "text/plain": [
       "     [,1] [,2] [,3] [,4] [,5]\n",
       "[1,] 0.2  0.2  0.2  0.2  0.2 \n",
       "[2,] 0.0  0.0  0.0  0.0  0.0 "
      ]
     },
     "metadata": {},
     "output_type": "display_data"
    }
   ],
   "source": [
    "bop_value[t,] = coredata(weights) * V_0\n",
    "bop_value"
   ]
  },
  {
   "cell_type": "code",
   "execution_count": 30,
   "id": "portuguese-northern",
   "metadata": {},
   "outputs": [
    {
     "data": {
      "text/html": [
       "<table>\n",
       "<caption>A matrix: 2 × 5 of type dbl</caption>\n",
       "<tbody>\n",
       "\t<tr><td>0.20238</td><td>0.20786</td><td>0.20356</td><td>0.21582</td><td>0.20378</td></tr>\n",
       "\t<tr><td>0.00000</td><td>0.00000</td><td>0.00000</td><td>0.00000</td><td>0.00000</td></tr>\n",
       "</tbody>\n",
       "</table>\n"
      ],
      "text/latex": [
       "A matrix: 2 × 5 of type dbl\n",
       "\\begin{tabular}{lllll}\n",
       "\t 0.20238 & 0.20786 & 0.20356 & 0.21582 & 0.20378\\\\\n",
       "\t 0.00000 & 0.00000 & 0.00000 & 0.00000 & 0.00000\\\\\n",
       "\\end{tabular}\n"
      ],
      "text/markdown": [
       "\n",
       "A matrix: 2 × 5 of type dbl\n",
       "\n",
       "| 0.20238 | 0.20786 | 0.20356 | 0.21582 | 0.20378 |\n",
       "| 0.00000 | 0.00000 | 0.00000 | 0.00000 | 0.00000 |\n",
       "\n"
      ],
      "text/plain": [
       "     [,1]    [,2]    [,3]    [,4]    [,5]   \n",
       "[1,] 0.20238 0.20786 0.20356 0.21582 0.20378\n",
       "[2,] 0.00000 0.00000 0.00000 0.00000 0.00000"
      ]
     },
     "metadata": {},
     "output_type": "display_data"
    }
   ],
   "source": [
    "eop_value[t,] = coredata(1 + R[t,]) * bop_value[t,]\n",
    "eop_value"
   ]
  },
  {
   "cell_type": "code",
   "execution_count": 31,
   "id": "collaborative-charm",
   "metadata": {},
   "outputs": [],
   "source": [
    "t = 2"
   ]
  },
  {
   "cell_type": "code",
   "execution_count": 32,
   "id": "dominican-surprise",
   "metadata": {},
   "outputs": [
    {
     "data": {
      "text/html": [
       "<table>\n",
       "<caption>A matrix: 2 × 5 of type dbl</caption>\n",
       "<tbody>\n",
       "\t<tr><td>0.20000</td><td>0.20000</td><td>0.20000</td><td>0.20000</td><td>0.20000</td></tr>\n",
       "\t<tr><td>0.20238</td><td>0.20786</td><td>0.20356</td><td>0.21582</td><td>0.20378</td></tr>\n",
       "</tbody>\n",
       "</table>\n"
      ],
      "text/latex": [
       "A matrix: 2 × 5 of type dbl\n",
       "\\begin{tabular}{lllll}\n",
       "\t 0.20000 & 0.20000 & 0.20000 & 0.20000 & 0.20000\\\\\n",
       "\t 0.20238 & 0.20786 & 0.20356 & 0.21582 & 0.20378\\\\\n",
       "\\end{tabular}\n"
      ],
      "text/markdown": [
       "\n",
       "A matrix: 2 × 5 of type dbl\n",
       "\n",
       "| 0.20000 | 0.20000 | 0.20000 | 0.20000 | 0.20000 |\n",
       "| 0.20238 | 0.20786 | 0.20356 | 0.21582 | 0.20378 |\n",
       "\n"
      ],
      "text/plain": [
       "     [,1]    [,2]    [,3]    [,4]    [,5]   \n",
       "[1,] 0.20000 0.20000 0.20000 0.20000 0.20000\n",
       "[2,] 0.20238 0.20786 0.20356 0.21582 0.20378"
      ]
     },
     "metadata": {},
     "output_type": "display_data"
    }
   ],
   "source": [
    "bop_value[t,] = eop_value[t-1,]\n",
    "bop_value"
   ]
  },
  {
   "cell_type": "code",
   "execution_count": 33,
   "id": "minus-stable",
   "metadata": {},
   "outputs": [
    {
     "data": {
      "text/html": [
       "<table>\n",
       "<caption>A matrix: 2 × 5 of type dbl</caption>\n",
       "<tbody>\n",
       "\t<tr><td>0.2023800</td><td>0.2078600</td><td>0.2035600</td><td>0.2158200</td><td>0.2037800</td></tr>\n",
       "\t<tr><td>0.2048693</td><td>0.2140542</td><td>0.2060434</td><td>0.2271506</td><td>0.2058382</td></tr>\n",
       "</tbody>\n",
       "</table>\n"
      ],
      "text/latex": [
       "A matrix: 2 × 5 of type dbl\n",
       "\\begin{tabular}{lllll}\n",
       "\t 0.2023800 & 0.2078600 & 0.2035600 & 0.2158200 & 0.2037800\\\\\n",
       "\t 0.2048693 & 0.2140542 & 0.2060434 & 0.2271506 & 0.2058382\\\\\n",
       "\\end{tabular}\n"
      ],
      "text/markdown": [
       "\n",
       "A matrix: 2 × 5 of type dbl\n",
       "\n",
       "| 0.2023800 | 0.2078600 | 0.2035600 | 0.2158200 | 0.2037800 |\n",
       "| 0.2048693 | 0.2140542 | 0.2060434 | 0.2271506 | 0.2058382 |\n",
       "\n"
      ],
      "text/plain": [
       "     [,1]      [,2]      [,3]      [,4]      [,5]     \n",
       "[1,] 0.2023800 0.2078600 0.2035600 0.2158200 0.2037800\n",
       "[2,] 0.2048693 0.2140542 0.2060434 0.2271506 0.2058382"
      ]
     },
     "metadata": {},
     "output_type": "display_data"
    }
   ],
   "source": [
    "eop_value[t,] = coredata(1 + R[t,]) * bop_value[t,]\n",
    "eop_value"
   ]
  },
  {
   "cell_type": "code",
   "execution_count": 34,
   "id": "crude-plain",
   "metadata": {},
   "outputs": [
    {
     "data": {
      "text/html": [
       "<table>\n",
       "<caption>A matrix: 2 × 5 of type dbl</caption>\n",
       "<tbody>\n",
       "\t<tr><td>0</td><td>0</td><td>0</td><td>0</td><td>0</td></tr>\n",
       "\t<tr><td>0</td><td>0</td><td>0</td><td>0</td><td>0</td></tr>\n",
       "</tbody>\n",
       "</table>\n"
      ],
      "text/latex": [
       "A matrix: 2 × 5 of type dbl\n",
       "\\begin{tabular}{lllll}\n",
       "\t 0 & 0 & 0 & 0 & 0\\\\\n",
       "\t 0 & 0 & 0 & 0 & 0\\\\\n",
       "\\end{tabular}\n"
      ],
      "text/markdown": [
       "\n",
       "A matrix: 2 × 5 of type dbl\n",
       "\n",
       "| 0 | 0 | 0 | 0 | 0 |\n",
       "| 0 | 0 | 0 | 0 | 0 |\n",
       "\n"
      ],
      "text/plain": [
       "     [,1] [,2] [,3] [,4] [,5]\n",
       "[1,] 0    0    0    0    0   \n",
       "[2,] 0    0    0    0    0   "
      ]
     },
     "metadata": {},
     "output_type": "display_data"
    }
   ],
   "source": [
    "bop_weights = eop_weights = matrix(0, 2, ncol(R))\n",
    "bop_weights"
   ]
  },
  {
   "cell_type": "code",
   "execution_count": 35,
   "id": "approximate-peter",
   "metadata": {},
   "outputs": [],
   "source": [
    "for(t in 1:2){\n",
    "    bop_weights[t,] = bop_value[t,] / sum(bop_value[t,])\n",
    "    eop_weights[t,] = eop_value[t,] / sum(eop_value[t,])\n",
    "}"
   ]
  },
  {
   "cell_type": "code",
   "execution_count": 36,
   "id": "functional-insider",
   "metadata": {},
   "outputs": [
    {
     "data": {
      "text/html": [
       "<table>\n",
       "<caption>A matrix: 2 × 5 of type dbl</caption>\n",
       "<tbody>\n",
       "\t<tr><td>0.200000</td><td>0.2000000</td><td>0.2000000</td><td>0.2000000</td><td>0.2000000</td></tr>\n",
       "\t<tr><td>0.195839</td><td>0.2011419</td><td>0.1969808</td><td>0.2088446</td><td>0.1971937</td></tr>\n",
       "</tbody>\n",
       "</table>\n"
      ],
      "text/latex": [
       "A matrix: 2 × 5 of type dbl\n",
       "\\begin{tabular}{lllll}\n",
       "\t 0.200000 & 0.2000000 & 0.2000000 & 0.2000000 & 0.2000000\\\\\n",
       "\t 0.195839 & 0.2011419 & 0.1969808 & 0.2088446 & 0.1971937\\\\\n",
       "\\end{tabular}\n"
      ],
      "text/markdown": [
       "\n",
       "A matrix: 2 × 5 of type dbl\n",
       "\n",
       "| 0.200000 | 0.2000000 | 0.2000000 | 0.2000000 | 0.2000000 |\n",
       "| 0.195839 | 0.2011419 | 0.1969808 | 0.2088446 | 0.1971937 |\n",
       "\n"
      ],
      "text/plain": [
       "     [,1]     [,2]      [,3]      [,4]      [,5]     \n",
       "[1,] 0.200000 0.2000000 0.2000000 0.2000000 0.2000000\n",
       "[2,] 0.195839 0.2011419 0.1969808 0.2088446 0.1971937"
      ]
     },
     "metadata": {},
     "output_type": "display_data"
    }
   ],
   "source": [
    "bop_weights"
   ]
  },
  {
   "cell_type": "code",
   "execution_count": 37,
   "id": "attractive-profession",
   "metadata": {},
   "outputs": [
    {
     "data": {
      "text/html": [
       "<table>\n",
       "<caption>A matrix: 2 × 5 of type dbl</caption>\n",
       "<tbody>\n",
       "\t<tr><td>0.1958390</td><td>0.2011419</td><td>0.1969808</td><td>0.2088446</td><td>0.1971937</td></tr>\n",
       "\t<tr><td>0.1936464</td><td>0.2023282</td><td>0.1947562</td><td>0.2147071</td><td>0.1945622</td></tr>\n",
       "</tbody>\n",
       "</table>\n"
      ],
      "text/latex": [
       "A matrix: 2 × 5 of type dbl\n",
       "\\begin{tabular}{lllll}\n",
       "\t 0.1958390 & 0.2011419 & 0.1969808 & 0.2088446 & 0.1971937\\\\\n",
       "\t 0.1936464 & 0.2023282 & 0.1947562 & 0.2147071 & 0.1945622\\\\\n",
       "\\end{tabular}\n"
      ],
      "text/markdown": [
       "\n",
       "A matrix: 2 × 5 of type dbl\n",
       "\n",
       "| 0.1958390 | 0.2011419 | 0.1969808 | 0.2088446 | 0.1971937 |\n",
       "| 0.1936464 | 0.2023282 | 0.1947562 | 0.2147071 | 0.1945622 |\n",
       "\n"
      ],
      "text/plain": [
       "     [,1]      [,2]      [,3]      [,4]      [,5]     \n",
       "[1,] 0.1958390 0.2011419 0.1969808 0.2088446 0.1971937\n",
       "[2,] 0.1936464 0.2023282 0.1947562 0.2147071 0.1945622"
      ]
     },
     "metadata": {},
     "output_type": "display_data"
    }
   ],
   "source": [
    "eop_weights"
   ]
  }
 ],
 "metadata": {
  "kernelspec": {
   "display_name": "R",
   "language": "R",
   "name": "ir"
  },
  "language_info": {
   "codemirror_mode": "r",
   "file_extension": ".r",
   "mimetype": "text/x-r-source",
   "name": "R",
   "pygments_lexer": "r",
   "version": "4.0.3"
  },
  "toc": {
   "base_numbering": 1,
   "nav_menu": {},
   "number_sections": true,
   "sideBar": true,
   "skip_h1_title": false,
   "title_cell": "Table of Contents",
   "title_sidebar": "Contents",
   "toc_cell": false,
   "toc_position": {},
   "toc_section_display": true,
   "toc_window_display": false
  }
 },
 "nbformat": 4,
 "nbformat_minor": 5
}
